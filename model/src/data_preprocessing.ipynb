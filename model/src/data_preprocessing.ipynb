{
 "cells": [
  {
   "cell_type": "code",
   "execution_count": 521,
   "id": "669b16f6-95ac-4b22-98d4-00fb8288c41f",
   "metadata": {},
   "outputs": [],
   "source": [
    "# Importing packages & libraries\n",
    "import warnings\n",
    "warnings.filterwarnings('ignore')\n",
    "import numpy as np\n",
    "import pandas as pd\n",
    "import seaborn as sns\n",
    "import matplotlib.pyplot as plt"
   ]
  },
  {
   "cell_type": "code",
   "execution_count": 522,
   "id": "5e0ad17d-1efe-4f2d-862d-af4bfd7e04dc",
   "metadata": {
    "tags": []
   },
   "outputs": [],
   "source": [
    "# set style\n",
    "custom_style = {\n",
    "    'figure.figsize': (6, 4),\n",
    "    'axes.titlesize': 16,\n",
    "    'axes.labelsize': 12,\n",
    "    'xtick.labelsize': 8,\n",
    "    'ytick.labelsize': 8,\n",
    "    'axes.grid': False,\n",
    "    'grid.alpha': 0.53,\n",
    "    'lines.linewidth': 2.5,\n",
    "    'axes.facecolor': '#f5f5f5',\n",
    "    'figure.facecolor': '#f5f5f5',\n",
    "    'axes.titlecolor': '#f92e44'\n",
    "}\n",
    "plt.rcParams.update(custom_style)"
   ]
  },
  {
   "cell_type": "markdown",
   "id": "2d43aad3-4630-431c-90d8-8a377bc75380",
   "metadata": {},
   "source": [
    "## 1. Data Preprocessing & EDA"
   ]
  },
  {
   "cell_type": "code",
   "execution_count": 523,
   "id": "3cb04a31-72c9-4f37-a40b-62e5b5cef8fb",
   "metadata": {},
   "outputs": [
    {
     "data": {
      "text/html": [
       "<div>\n",
       "<style scoped>\n",
       "    .dataframe tbody tr th:only-of-type {\n",
       "        vertical-align: middle;\n",
       "    }\n",
       "\n",
       "    .dataframe tbody tr th {\n",
       "        vertical-align: top;\n",
       "    }\n",
       "\n",
       "    .dataframe thead th {\n",
       "        text-align: right;\n",
       "    }\n",
       "</style>\n",
       "<table border=\"1\" class=\"dataframe\">\n",
       "  <thead>\n",
       "    <tr style=\"text-align: right;\">\n",
       "      <th></th>\n",
       "      <th>laptop_ID</th>\n",
       "      <th>Company</th>\n",
       "      <th>Product</th>\n",
       "      <th>TypeName</th>\n",
       "      <th>Inches</th>\n",
       "      <th>ScreenResolution</th>\n",
       "      <th>Cpu</th>\n",
       "      <th>Ram</th>\n",
       "      <th>Memory</th>\n",
       "      <th>Gpu</th>\n",
       "      <th>OpSys</th>\n",
       "      <th>Weight</th>\n",
       "      <th>Price_euros</th>\n",
       "    </tr>\n",
       "  </thead>\n",
       "  <tbody>\n",
       "    <tr>\n",
       "      <th>0</th>\n",
       "      <td>1</td>\n",
       "      <td>Apple</td>\n",
       "      <td>MacBook Pro</td>\n",
       "      <td>Ultrabook</td>\n",
       "      <td>13.3</td>\n",
       "      <td>IPS Panel Retina Display 2560x1600</td>\n",
       "      <td>Intel Core i5 2.3GHz</td>\n",
       "      <td>8GB</td>\n",
       "      <td>128GB SSD</td>\n",
       "      <td>Intel Iris Plus Graphics 640</td>\n",
       "      <td>macOS</td>\n",
       "      <td>1.37kg</td>\n",
       "      <td>1339.69</td>\n",
       "    </tr>\n",
       "    <tr>\n",
       "      <th>1</th>\n",
       "      <td>2</td>\n",
       "      <td>Apple</td>\n",
       "      <td>Macbook Air</td>\n",
       "      <td>Ultrabook</td>\n",
       "      <td>13.3</td>\n",
       "      <td>1440x900</td>\n",
       "      <td>Intel Core i5 1.8GHz</td>\n",
       "      <td>8GB</td>\n",
       "      <td>128GB Flash Storage</td>\n",
       "      <td>Intel HD Graphics 6000</td>\n",
       "      <td>macOS</td>\n",
       "      <td>1.34kg</td>\n",
       "      <td>898.94</td>\n",
       "    </tr>\n",
       "    <tr>\n",
       "      <th>2</th>\n",
       "      <td>3</td>\n",
       "      <td>HP</td>\n",
       "      <td>250 G6</td>\n",
       "      <td>Notebook</td>\n",
       "      <td>15.6</td>\n",
       "      <td>Full HD 1920x1080</td>\n",
       "      <td>Intel Core i5 7200U 2.5GHz</td>\n",
       "      <td>8GB</td>\n",
       "      <td>256GB SSD</td>\n",
       "      <td>Intel HD Graphics 620</td>\n",
       "      <td>No OS</td>\n",
       "      <td>1.86kg</td>\n",
       "      <td>575.00</td>\n",
       "    </tr>\n",
       "    <tr>\n",
       "      <th>3</th>\n",
       "      <td>4</td>\n",
       "      <td>Apple</td>\n",
       "      <td>MacBook Pro</td>\n",
       "      <td>Ultrabook</td>\n",
       "      <td>15.4</td>\n",
       "      <td>IPS Panel Retina Display 2880x1800</td>\n",
       "      <td>Intel Core i7 2.7GHz</td>\n",
       "      <td>16GB</td>\n",
       "      <td>512GB SSD</td>\n",
       "      <td>AMD Radeon Pro 455</td>\n",
       "      <td>macOS</td>\n",
       "      <td>1.83kg</td>\n",
       "      <td>2537.45</td>\n",
       "    </tr>\n",
       "    <tr>\n",
       "      <th>4</th>\n",
       "      <td>5</td>\n",
       "      <td>Apple</td>\n",
       "      <td>MacBook Pro</td>\n",
       "      <td>Ultrabook</td>\n",
       "      <td>13.3</td>\n",
       "      <td>IPS Panel Retina Display 2560x1600</td>\n",
       "      <td>Intel Core i5 3.1GHz</td>\n",
       "      <td>8GB</td>\n",
       "      <td>256GB SSD</td>\n",
       "      <td>Intel Iris Plus Graphics 650</td>\n",
       "      <td>macOS</td>\n",
       "      <td>1.37kg</td>\n",
       "      <td>1803.60</td>\n",
       "    </tr>\n",
       "  </tbody>\n",
       "</table>\n",
       "</div>"
      ],
      "text/plain": [
       "   laptop_ID Company      Product   TypeName  Inches  \\\n",
       "0          1   Apple  MacBook Pro  Ultrabook    13.3   \n",
       "1          2   Apple  Macbook Air  Ultrabook    13.3   \n",
       "2          3      HP       250 G6   Notebook    15.6   \n",
       "3          4   Apple  MacBook Pro  Ultrabook    15.4   \n",
       "4          5   Apple  MacBook Pro  Ultrabook    13.3   \n",
       "\n",
       "                     ScreenResolution                         Cpu   Ram  \\\n",
       "0  IPS Panel Retina Display 2560x1600        Intel Core i5 2.3GHz   8GB   \n",
       "1                            1440x900        Intel Core i5 1.8GHz   8GB   \n",
       "2                   Full HD 1920x1080  Intel Core i5 7200U 2.5GHz   8GB   \n",
       "3  IPS Panel Retina Display 2880x1800        Intel Core i7 2.7GHz  16GB   \n",
       "4  IPS Panel Retina Display 2560x1600        Intel Core i5 3.1GHz   8GB   \n",
       "\n",
       "                Memory                           Gpu  OpSys  Weight  \\\n",
       "0            128GB SSD  Intel Iris Plus Graphics 640  macOS  1.37kg   \n",
       "1  128GB Flash Storage        Intel HD Graphics 6000  macOS  1.34kg   \n",
       "2            256GB SSD         Intel HD Graphics 620  No OS  1.86kg   \n",
       "3            512GB SSD            AMD Radeon Pro 455  macOS  1.83kg   \n",
       "4            256GB SSD  Intel Iris Plus Graphics 650  macOS  1.37kg   \n",
       "\n",
       "   Price_euros  \n",
       "0      1339.69  \n",
       "1       898.94  \n",
       "2       575.00  \n",
       "3      2537.45  \n",
       "4      1803.60  "
      ]
     },
     "execution_count": 523,
     "metadata": {},
     "output_type": "execute_result"
    }
   ],
   "source": [
    "#Importing data\n",
    "data = pd.read_csv('../data/laptop_price.csv', encoding = 'latin-1')\n",
    "data.head()"
   ]
  },
  {
   "cell_type": "code",
   "execution_count": 524,
   "id": "e8c3bcd2-8a97-4e05-95df-96cd91336aef",
   "metadata": {},
   "outputs": [
    {
     "name": "stdout",
     "output_type": "stream",
     "text": [
      "<class 'pandas.core.frame.DataFrame'>\n",
      "RangeIndex: 1303 entries, 0 to 1302\n",
      "Data columns (total 13 columns):\n",
      " #   Column            Non-Null Count  Dtype  \n",
      "---  ------            --------------  -----  \n",
      " 0   laptop_ID         1303 non-null   int64  \n",
      " 1   Company           1303 non-null   object \n",
      " 2   Product           1303 non-null   object \n",
      " 3   TypeName          1303 non-null   object \n",
      " 4   Inches            1303 non-null   float64\n",
      " 5   ScreenResolution  1303 non-null   object \n",
      " 6   Cpu               1303 non-null   object \n",
      " 7   Ram               1303 non-null   object \n",
      " 8   Memory            1303 non-null   object \n",
      " 9   Gpu               1303 non-null   object \n",
      " 10  OpSys             1303 non-null   object \n",
      " 11  Weight            1303 non-null   object \n",
      " 12  Price_euros       1303 non-null   float64\n",
      "dtypes: float64(2), int64(1), object(10)\n",
      "memory usage: 132.5+ KB\n"
     ]
    }
   ],
   "source": [
    "data.info()"
   ]
  },
  {
   "cell_type": "code",
   "execution_count": 525,
   "id": "bec0d44d-a96f-47e4-8e22-58f59313b1bd",
   "metadata": {},
   "outputs": [
    {
     "data": {
      "text/plain": [
       "(1303, 13)"
      ]
     },
     "execution_count": 525,
     "metadata": {},
     "output_type": "execute_result"
    }
   ],
   "source": [
    "data.shape"
   ]
  },
  {
   "cell_type": "markdown",
   "id": "572430b6-3bcf-4a2f-85c6-02bd613d73bf",
   "metadata": {},
   "source": [
    "There are 1303 rows in 12 columns"
   ]
  },
  {
   "cell_type": "code",
   "execution_count": 526,
   "id": "e91c4917-32c7-471e-bca7-10580ffe6ab4",
   "metadata": {},
   "outputs": [
    {
     "data": {
      "text/plain": [
       "laptop_ID           0\n",
       "Company             0\n",
       "Product             0\n",
       "TypeName            0\n",
       "Inches              0\n",
       "ScreenResolution    0\n",
       "Cpu                 0\n",
       "Ram                 0\n",
       "Memory              0\n",
       "Gpu                 0\n",
       "OpSys               0\n",
       "Weight              0\n",
       "Price_euros         0\n",
       "dtype: int64"
      ]
     },
     "execution_count": 526,
     "metadata": {},
     "output_type": "execute_result"
    }
   ],
   "source": [
    "#Null values\n",
    "data.isnull().sum()"
   ]
  },
  {
   "cell_type": "markdown",
   "id": "c4e548d2-f604-4ee7-a897-9f9a721448a4",
   "metadata": {},
   "source": [
    "No Missing values."
   ]
  },
  {
   "cell_type": "code",
   "execution_count": 527,
   "id": "b4891a05-ee5b-45a3-b9c5-7edf7baefb82",
   "metadata": {},
   "outputs": [],
   "source": [
    "# removing 'GB' from 'Ram' column\n",
    "data['Ram'] = data['Ram'].str.replace('GB', '').astype('int32')"
   ]
  },
  {
   "cell_type": "code",
   "execution_count": 528,
   "id": "ff1aee82-17aa-485c-87e0-928cd51c90d4",
   "metadata": {},
   "outputs": [],
   "source": [
    "# converting 'Weight' to 'float'\n",
    "data['Weight'] = data['Weight'].str.replace('kg', '').astype('float32')"
   ]
  },
  {
   "cell_type": "code",
   "execution_count": 529,
   "id": "0eb220f6-7949-4c09-8f06-3f0bf7d6eb58",
   "metadata": {},
   "outputs": [
    {
     "data": {
      "text/html": [
       "<div>\n",
       "<style scoped>\n",
       "    .dataframe tbody tr th:only-of-type {\n",
       "        vertical-align: middle;\n",
       "    }\n",
       "\n",
       "    .dataframe tbody tr th {\n",
       "        vertical-align: top;\n",
       "    }\n",
       "\n",
       "    .dataframe thead th {\n",
       "        text-align: right;\n",
       "    }\n",
       "</style>\n",
       "<table border=\"1\" class=\"dataframe\">\n",
       "  <thead>\n",
       "    <tr style=\"text-align: right;\">\n",
       "      <th></th>\n",
       "      <th>laptop_ID</th>\n",
       "      <th>Company</th>\n",
       "      <th>Product</th>\n",
       "      <th>TypeName</th>\n",
       "      <th>Inches</th>\n",
       "      <th>ScreenResolution</th>\n",
       "      <th>Cpu</th>\n",
       "      <th>Ram</th>\n",
       "      <th>Memory</th>\n",
       "      <th>Gpu</th>\n",
       "      <th>OpSys</th>\n",
       "      <th>Weight</th>\n",
       "      <th>Price_euros</th>\n",
       "    </tr>\n",
       "  </thead>\n",
       "  <tbody>\n",
       "    <tr>\n",
       "      <th>0</th>\n",
       "      <td>1</td>\n",
       "      <td>Apple</td>\n",
       "      <td>MacBook Pro</td>\n",
       "      <td>Ultrabook</td>\n",
       "      <td>13.3</td>\n",
       "      <td>IPS Panel Retina Display 2560x1600</td>\n",
       "      <td>Intel Core i5 2.3GHz</td>\n",
       "      <td>8</td>\n",
       "      <td>128GB SSD</td>\n",
       "      <td>Intel Iris Plus Graphics 640</td>\n",
       "      <td>macOS</td>\n",
       "      <td>1.37</td>\n",
       "      <td>1339.69</td>\n",
       "    </tr>\n",
       "    <tr>\n",
       "      <th>1</th>\n",
       "      <td>2</td>\n",
       "      <td>Apple</td>\n",
       "      <td>Macbook Air</td>\n",
       "      <td>Ultrabook</td>\n",
       "      <td>13.3</td>\n",
       "      <td>1440x900</td>\n",
       "      <td>Intel Core i5 1.8GHz</td>\n",
       "      <td>8</td>\n",
       "      <td>128GB Flash Storage</td>\n",
       "      <td>Intel HD Graphics 6000</td>\n",
       "      <td>macOS</td>\n",
       "      <td>1.34</td>\n",
       "      <td>898.94</td>\n",
       "    </tr>\n",
       "  </tbody>\n",
       "</table>\n",
       "</div>"
      ],
      "text/plain": [
       "   laptop_ID Company      Product   TypeName  Inches  \\\n",
       "0          1   Apple  MacBook Pro  Ultrabook    13.3   \n",
       "1          2   Apple  Macbook Air  Ultrabook    13.3   \n",
       "\n",
       "                     ScreenResolution                   Cpu  Ram  \\\n",
       "0  IPS Panel Retina Display 2560x1600  Intel Core i5 2.3GHz    8   \n",
       "1                            1440x900  Intel Core i5 1.8GHz    8   \n",
       "\n",
       "                Memory                           Gpu  OpSys  Weight  \\\n",
       "0            128GB SSD  Intel Iris Plus Graphics 640  macOS    1.37   \n",
       "1  128GB Flash Storage        Intel HD Graphics 6000  macOS    1.34   \n",
       "\n",
       "   Price_euros  \n",
       "0      1339.69  \n",
       "1       898.94  "
      ]
     },
     "execution_count": 529,
     "metadata": {},
     "output_type": "execute_result"
    }
   ],
   "source": [
    "data.head(2)"
   ]
  },
  {
   "cell_type": "code",
   "execution_count": 530,
   "id": "c4a61b81-e8cc-4141-940e-5ed53e48d0d4",
   "metadata": {},
   "outputs": [
    {
     "data": {
      "text/plain": [
       "laptop_ID             int64\n",
       "Company              object\n",
       "Product              object\n",
       "TypeName             object\n",
       "Inches              float64\n",
       "ScreenResolution     object\n",
       "Cpu                  object\n",
       "Ram                   int32\n",
       "Memory               object\n",
       "Gpu                  object\n",
       "OpSys                object\n",
       "Weight              float32\n",
       "Price_euros         float64\n",
       "dtype: object"
      ]
     },
     "execution_count": 530,
     "metadata": {},
     "output_type": "execute_result"
    }
   ],
   "source": [
    "data.dtypes"
   ]
  },
  {
   "cell_type": "code",
   "execution_count": 531,
   "id": "239118dc-ae6d-455c-9d5b-f7a4ce10f0db",
   "metadata": {},
   "outputs": [
    {
     "data": {
      "text/plain": [
       "(1303, 13)"
      ]
     },
     "execution_count": 531,
     "metadata": {},
     "output_type": "execute_result"
    }
   ],
   "source": [
    "data.shape"
   ]
  },
  {
   "cell_type": "markdown",
   "id": "2c80088f-1622-44d1-b0db-cd55604fad7e",
   "metadata": {},
   "source": [
    "### 1.1 Price (Target Column)"
   ]
  },
  {
   "cell_type": "code",
   "execution_count": 532,
   "id": "ef197911-13ef-4ce8-88dd-182ee3737840",
   "metadata": {
    "tags": []
   },
   "outputs": [
    {
     "data": {
      "text/plain": [
       "Text(0, 0.5, 'Count')"
      ]
     },
     "execution_count": 532,
     "metadata": {},
     "output_type": "execute_result"
    },
    {
     "data": {
      "image/png": "[encoded data removed]",
      "text/plain": [
       "<Figure size 600x400 with 1 Axes>"
      ]
     },
     "metadata": {},
     "output_type": "display_data"
    }
   ],
   "source": [
    "sns.histplot(data['Price_euros'], stat = 'count', color='blue', kde = True)\n",
    "plt.title(\"Price Distribution\")\n",
    "plt.xlabel(\"Price (in euros)\")\n",
    "plt.ylabel(\"Count\")"
   ]
  },
  {
   "cell_type": "markdown",
   "id": "8d81f978-cdce-418c-838b-0d7881c98d24",
   "metadata": {},
   "source": [
    "Most of the laptops are around 1000 euros."
   ]
  },
  {
   "cell_type": "code",
   "execution_count": 533,
   "id": "2b17be19-1486-4a57-8f89-595b1395b8f3",
   "metadata": {
    "tags": []
   },
   "outputs": [
    {
     "data": {
      "text/plain": [
       "laptop_ID      0.067830\n",
       "Inches         0.068197\n",
       "Ram            0.743007\n",
       "Weight         0.210370\n",
       "Price_euros    1.000000\n",
       "Name: Price_euros, dtype: float64"
      ]
     },
     "execution_count": 533,
     "metadata": {},
     "output_type": "execute_result"
    }
   ],
   "source": [
    "# checking correlation\n",
    "data.corr()['Price_euros']"
   ]
  },
  {
   "cell_type": "markdown",
   "id": "f1522579-18e0-4b50-a1b6-18bf07496a68",
   "metadata": {},
   "source": [
    "### 1.2 Company"
   ]
  },
  {
   "cell_type": "code",
   "execution_count": 534,
   "id": "a2a299bc-f6c2-48cf-b430-1fa798b298c4",
   "metadata": {},
   "outputs": [
    {
     "name": "stdout",
     "output_type": "stream",
     "text": [
      "Dell         297\n",
      "Lenovo       297\n",
      "HP           274\n",
      "Asus         158\n",
      "Acer         103\n",
      "MSI           54\n",
      "Toshiba       48\n",
      "Apple         21\n",
      "Samsung        9\n",
      "Razer          7\n",
      "Mediacom       7\n",
      "Microsoft      6\n",
      "Xiaomi         4\n",
      "Vero           4\n",
      "Chuwi          3\n",
      "Google         3\n",
      "Fujitsu        3\n",
      "LG             3\n",
      "Huawei         2\n",
      "Name: Company, dtype: int64\n",
      "\n",
      "Total No of diffetent types :  19\n"
     ]
    }
   ],
   "source": [
    "#Company\n",
    "print(data['Company'].value_counts())\n",
    "print(\"\\nTotal No of diffetent types : \",len(data['Company'].value_counts()))"
   ]
  },
  {
   "cell_type": "code",
   "execution_count": 535,
   "id": "4524d9f4-91fe-4396-acbb-22c4ca5625a8",
   "metadata": {
    "tags": []
   },
   "outputs": [
    {
     "data": {
      "text/plain": [
       "Text(0, 0.5, 'Count')"
      ]
     },
     "execution_count": 535,
     "metadata": {},
     "output_type": "execute_result"
    },
    {
     "data": {
      "image/png": "[encoded data removed]",
      "text/plain": [
       "<Figure size 600x400 with 1 Axes>"
      ]
     },
     "metadata": {},
     "output_type": "display_data"
    }
   ],
   "source": [
    "#distribution of company name\n",
    "data['Company'].value_counts().plot(kind = 'bar')\n",
    "plt.title('Distribution of company name')\n",
    "plt.xlabel('Company Name')\n",
    "plt.ylabel('Count')"
   ]
  },
  {
   "cell_type": "code",
   "execution_count": 536,
   "id": "f913191e-ef73-489e-a085-bd2a51f3e9b4",
   "metadata": {
    "tags": []
   },
   "outputs": [
    {
     "data": {
      "text/plain": [
       "Text(0, 0.5, 'Total Income')"
      ]
     },
     "execution_count": 536,
     "metadata": {},
     "output_type": "execute_result"
    },
    {
     "data": {
      "image/png": "[encoded data removed]",
      "text/plain": [
       "<Figure size 600x400 with 1 Axes>"
      ]
     },
     "metadata": {},
     "output_type": "display_data"
    }
   ],
   "source": [
    "#Total sales by company\n",
    "sns.barplot(x = data['Company'], y = data['Price_euros'])\n",
    "plt.title('Total sales by Company')\n",
    "plt.xlabel('Company Name')\n",
    "plt.xticks(rotation='vertical')\n",
    "plt.ylabel('Total Income')"
   ]
  },
  {
   "cell_type": "markdown",
   "id": "154ce22e-827c-47b6-9cc3-371709bccc16",
   "metadata": {},
   "source": [
    "Most of the income brom 'Razor' brand.\n",
    "Combine all the companies which have sales less than 10 to one company as'Other'."
   ]
  },
  {
   "cell_type": "code",
   "execution_count": 537,
   "id": "c629b1b0-1b16-4984-89b2-47865a876e37",
   "metadata": {},
   "outputs": [],
   "source": [
    "# Companies to replaced\n",
    "replace_company = data['Company'].value_counts()\n",
    "replace_company = replace_company[replace_company <= 10].index.tolist()\n",
    "\n",
    "# Replace these companies with \"Other\"\n",
    "data['Company'] = data['Company'].replace(replace_company, 'Other')"
   ]
  },
  {
   "cell_type": "code",
   "execution_count": 538,
   "id": "1c475e29-4b01-4791-bae2-dd68646f7b05",
   "metadata": {},
   "outputs": [
    {
     "data": {
      "text/plain": [
       "Dell       297\n",
       "Lenovo     297\n",
       "HP         274\n",
       "Asus       158\n",
       "Acer       103\n",
       "MSI         54\n",
       "Other       51\n",
       "Toshiba     48\n",
       "Apple       21\n",
       "Name: Company, dtype: int64"
      ]
     },
     "execution_count": 538,
     "metadata": {},
     "output_type": "execute_result"
    }
   ],
   "source": [
    "data['Company'].value_counts()"
   ]
  },
  {
   "cell_type": "markdown",
   "id": "7bfe3173-36ef-4de7-9c90-c36e290bcd51",
   "metadata": {},
   "source": [
    "### 1.3 Product"
   ]
  },
  {
   "cell_type": "code",
   "execution_count": 539,
   "id": "5592c3c2-a34c-45a4-9a50-c96b21654d17",
   "metadata": {},
   "outputs": [
    {
     "name": "stdout",
     "output_type": "stream",
     "text": [
      "XPS 13                                     30\n",
      "Inspiron 3567                              29\n",
      "250 G6                                     21\n",
      "Legion Y520-15IKBN                         19\n",
      "Vostro 3568                                19\n",
      "                                           ..\n",
      "15-bw007nv (A10-9620P/6GB/128GB/Radeon      1\n",
      "SmartBook 130                               1\n",
      "A541NA-GO342 (N3350/4GB/500GB/Linux)        1\n",
      "17-X047na (i3-6006U/8GB/1TB/W10)            1\n",
      "V330-15IKB (i5-8250U/4GB/500GB/FHD/W10)     1\n",
      "Name: Product, Length: 618, dtype: int64\n",
      "\n",
      "Total No of diffetent types :  618\n"
     ]
    }
   ],
   "source": [
    "#Product\n",
    "print(data['Product'].value_counts())\n",
    "print(\"\\nTotal No of diffetent types : \",len(data['Product'].value_counts()))"
   ]
  },
  {
   "cell_type": "markdown",
   "id": "f7ab8c06-0626-49c1-8559-93a7932230d7",
   "metadata": {
    "tags": []
   },
   "source": [
    "### 1.4 Type Name"
   ]
  },
  {
   "cell_type": "code",
   "execution_count": 540,
   "id": "5e84af12-ad84-4d17-bdb5-140ff6193190",
   "metadata": {},
   "outputs": [
    {
     "name": "stdout",
     "output_type": "stream",
     "text": [
      "Notebook              727\n",
      "Gaming                205\n",
      "Ultrabook             196\n",
      "2 in 1 Convertible    121\n",
      "Workstation            29\n",
      "Netbook                25\n",
      "Name: TypeName, dtype: int64\n",
      "\n",
      "Total No of diffetent types :  6\n"
     ]
    }
   ],
   "source": [
    "#TypeName\n",
    "print(data['TypeName'].value_counts())\n",
    "print(\"\\nTotal No of diffetent types : \",len(data['TypeName'].value_counts()))"
   ]
  },
  {
   "cell_type": "code",
   "execution_count": 541,
   "id": "6558092f-646b-4564-bbf7-57c7d477e33a",
   "metadata": {
    "tags": []
   },
   "outputs": [
    {
     "data": {
      "text/plain": [
       "Text(0, 0.5, 'Count')"
      ]
     },
     "execution_count": 541,
     "metadata": {},
     "output_type": "execute_result"
    },
    {
     "data": {
      "image/png": "[encoded data removed]",
      "text/plain": [
       "<Figure size 600x400 with 1 Axes>"
      ]
     },
     "metadata": {},
     "output_type": "display_data"
    }
   ],
   "source": [
    "# distribution of TypeName\n",
    "data['TypeName'].value_counts().plot(kind = 'bar')\n",
    "plt.title('Distribution of Type name')\n",
    "plt.xlabel('Type Name')\n",
    "plt.ylabel('Count')"
   ]
  },
  {
   "cell_type": "code",
   "execution_count": 542,
   "id": "c4aa9812-ee64-457a-9857-83b50f86f3c7",
   "metadata": {
    "tags": []
   },
   "outputs": [
    {
     "data": {
      "text/plain": [
       "Text(0, 0.5, 'Total Income')"
      ]
     },
     "execution_count": 542,
     "metadata": {},
     "output_type": "execute_result"
    },
    {
     "data": {
      "image/png": "[encoded data removed]",
      "text/plain": [
       "<Figure size 600x400 with 1 Axes>"
      ]
     },
     "metadata": {},
     "output_type": "display_data"
    }
   ],
   "source": [
    "#Total sales by laptop type\n",
    "sns.barplot(x = data['TypeName'], y = data['Price_euros'])\n",
    "plt.title('Total sales by Laptop Type')\n",
    "plt.xlabel('Laptop Type')\n",
    "plt.xticks(rotation='vertical')\n",
    "plt.ylabel('Total Income')"
   ]
  },
  {
   "cell_type": "markdown",
   "id": "376de0f2-bb91-413d-a1c2-27952a4521e2",
   "metadata": {},
   "source": [
    "### 1.5 Screen Resolution"
   ]
  },
  {
   "cell_type": "code",
   "execution_count": 543,
   "id": "39fbf94f-069a-4d35-94c7-986dcc5900d2",
   "metadata": {},
   "outputs": [
    {
     "name": "stdout",
     "output_type": "stream",
     "text": [
      "Full HD 1920x1080                                507\n",
      "1366x768                                         281\n",
      "IPS Panel Full HD 1920x1080                      230\n",
      "IPS Panel Full HD / Touchscreen 1920x1080         53\n",
      "Full HD / Touchscreen 1920x1080                   47\n",
      "1600x900                                          23\n",
      "Touchscreen 1366x768                              16\n",
      "Quad HD+ / Touchscreen 3200x1800                  15\n",
      "IPS Panel 4K Ultra HD 3840x2160                   12\n",
      "IPS Panel 4K Ultra HD / Touchscreen 3840x2160     11\n",
      "4K Ultra HD / Touchscreen 3840x2160               10\n",
      "4K Ultra HD 3840x2160                              7\n",
      "Touchscreen 2560x1440                              7\n",
      "IPS Panel 1366x768                                 7\n",
      "IPS Panel Quad HD+ / Touchscreen 3200x1800         6\n",
      "IPS Panel Retina Display 2560x1600                 6\n",
      "IPS Panel Retina Display 2304x1440                 6\n",
      "Touchscreen 2256x1504                              6\n",
      "IPS Panel Touchscreen 2560x1440                    5\n",
      "IPS Panel Retina Display 2880x1800                 4\n",
      "IPS Panel Touchscreen 1920x1200                    4\n",
      "1440x900                                           4\n",
      "IPS Panel 2560x1440                                4\n",
      "IPS Panel Quad HD+ 2560x1440                       3\n",
      "Quad HD+ 3200x1800                                 3\n",
      "1920x1080                                          3\n",
      "Touchscreen 2400x1600                              3\n",
      "2560x1440                                          3\n",
      "IPS Panel Touchscreen 1366x768                     3\n",
      "IPS Panel Touchscreen / 4K Ultra HD 3840x2160      2\n",
      "IPS Panel Full HD 2160x1440                        2\n",
      "IPS Panel Quad HD+ 3200x1800                       2\n",
      "IPS Panel Retina Display 2736x1824                 1\n",
      "IPS Panel Full HD 1920x1200                        1\n",
      "IPS Panel Full HD 2560x1440                        1\n",
      "IPS Panel Full HD 1366x768                         1\n",
      "Touchscreen / Full HD 1920x1080                    1\n",
      "Touchscreen / Quad HD+ 3200x1800                   1\n",
      "Touchscreen / 4K Ultra HD 3840x2160                1\n",
      "IPS Panel Touchscreen 2400x1600                    1\n",
      "Name: ScreenResolution, dtype: int64\n",
      "\n",
      "Total No of diffetent types :  40\n"
     ]
    }
   ],
   "source": [
    "#ScreenResolution\n",
    "print(data['ScreenResolution'].value_counts())\n",
    "print(\"\\nTotal No of diffetent types : \",len(data['ScreenResolution'].value_counts()))"
   ]
  },
  {
   "cell_type": "code",
   "execution_count": 544,
   "id": "cfeb1514-f2ec-419a-afc8-13ac4e957461",
   "metadata": {},
   "outputs": [],
   "source": [
    "# Extact 'Touchscrren'  & 'IPS'\n",
    "data['Touchscreen'] = data['ScreenResolution'].apply(lambda x:1 if 'Touchscreen' in x else 0)\n",
    "data['IPS'] = data['ScreenResolution'].apply(lambda x:1 if 'IPS' in x else 0)"
   ]
  },
  {
   "cell_type": "code",
   "execution_count": 545,
   "id": "39ea4868-7e96-42c9-81f9-e16d2924bfef",
   "metadata": {
    "tags": []
   },
   "outputs": [
    {
     "data": {
      "text/plain": [
       "0    1111\n",
       "1     192\n",
       "Name: Touchscreen, dtype: int64"
      ]
     },
     "execution_count": 545,
     "metadata": {},
     "output_type": "execute_result"
    }
   ],
   "source": [
    "data['Touchscreen'].value_counts()"
   ]
  },
  {
   "cell_type": "code",
   "execution_count": 546,
   "id": "e5656806-1b84-4649-baf7-0c68d17b3838",
   "metadata": {
    "tags": []
   },
   "outputs": [
    {
     "data": {
      "text/plain": [
       "Text(0, 0.5, 'Count')"
      ]
     },
     "execution_count": 546,
     "metadata": {},
     "output_type": "execute_result"
    },
    {
     "data": {
      "image/png": "[encoded data removed]",
      "text/plain": [
       "<Figure size 600x400 with 1 Axes>"
      ]
     },
     "metadata": {},
     "output_type": "display_data"
    }
   ],
   "source": [
    "ax = data['Touchscreen'].value_counts().plot(kind='bar', color=['blue', 'green'])\n",
    "colors = {0: 'blue', 1: 'green'}\n",
    "labels = {0: 'No Touchscreen', 1: 'Touchscreen'}\n",
    "plt.title('No of laptops with Touchscreen')\n",
    "plt.xlabel('Touch Screen Capability')\n",
    "plt.xticks(list(colors.keys()), list(labels.values()), rotation='horizontal')  \n",
    "plt.ylabel('Count')"
   ]
  },
  {
   "cell_type": "code",
   "execution_count": 547,
   "id": "e42b7ab9-1926-4e58-8d91-4fc36d5705eb",
   "metadata": {
    "tags": []
   },
   "outputs": [
    {
     "data": {
      "text/plain": [
       "0    938\n",
       "1    365\n",
       "Name: IPS, dtype: int64"
      ]
     },
     "execution_count": 547,
     "metadata": {},
     "output_type": "execute_result"
    }
   ],
   "source": [
    "data['IPS'].value_counts()"
   ]
  },
  {
   "cell_type": "code",
   "execution_count": 548,
   "id": "8fbee875-1f66-4a38-9784-a607c1940c4b",
   "metadata": {
    "tags": []
   },
   "outputs": [
    {
     "data": {
      "text/plain": [
       "Text(0, 0.5, 'Count')"
      ]
     },
     "execution_count": 548,
     "metadata": {},
     "output_type": "execute_result"
    },
    {
     "data": {
      "image/png": "[encoded data removed]",
      "text/plain": [
       "<Figure size 600x400 with 1 Axes>"
      ]
     },
     "metadata": {},
     "output_type": "display_data"
    }
   ],
   "source": [
    "ax = data['IPS'].value_counts().plot(kind='bar', color=['blue', 'green'])\n",
    "colors = {0: 'blue', 1: 'green'}\n",
    "labels = {0: 'No IPS', 1: 'IPS'}\n",
    "plt.title('No of laptops with IPS displays')\n",
    "plt.xlabel('IPS Display')\n",
    "plt.xticks(list(colors.keys()), list(labels.values()), rotation='horizontal')  \n",
    "plt.ylabel('Count')"
   ]
  },
  {
   "cell_type": "code",
   "execution_count": 549,
   "id": "4e10177b-beef-444b-8585-8855706558a8",
   "metadata": {
    "tags": []
   },
   "outputs": [],
   "source": [
    "# Extract resolution 'X-axis' and 'Y-axis'"
   ]
  },
  {
   "cell_type": "code",
   "execution_count": 550,
   "id": "2de2dbde-c4e6-4c82-83dc-c553f13ceee9",
   "metadata": {
    "tags": []
   },
   "outputs": [],
   "source": [
    "temp = data['ScreenResolution'].str.split('x', n =1, expand = True)\n",
    "data['X_res'] = temp[0]\n",
    "data['Y_res'] = temp[1]"
   ]
  },
  {
   "cell_type": "code",
   "execution_count": 551,
   "id": "50e2242e-112e-4541-b1a0-42837153e49e",
   "metadata": {
    "tags": []
   },
   "outputs": [
    {
     "data": {
      "text/html": [
       "<div>\n",
       "<style scoped>\n",
       "    .dataframe tbody tr th:only-of-type {\n",
       "        vertical-align: middle;\n",
       "    }\n",
       "\n",
       "    .dataframe tbody tr th {\n",
       "        vertical-align: top;\n",
       "    }\n",
       "\n",
       "    .dataframe thead th {\n",
       "        text-align: right;\n",
       "    }\n",
       "</style>\n",
       "<table border=\"1\" class=\"dataframe\">\n",
       "  <thead>\n",
       "    <tr style=\"text-align: right;\">\n",
       "      <th></th>\n",
       "      <th>laptop_ID</th>\n",
       "      <th>Company</th>\n",
       "      <th>Product</th>\n",
       "      <th>TypeName</th>\n",
       "      <th>Inches</th>\n",
       "      <th>ScreenResolution</th>\n",
       "      <th>Cpu</th>\n",
       "      <th>Ram</th>\n",
       "      <th>Memory</th>\n",
       "      <th>Gpu</th>\n",
       "      <th>OpSys</th>\n",
       "      <th>Weight</th>\n",
       "      <th>Price_euros</th>\n",
       "      <th>Touchscreen</th>\n",
       "      <th>IPS</th>\n",
       "      <th>X_res</th>\n",
       "      <th>Y_res</th>\n",
       "    </tr>\n",
       "  </thead>\n",
       "  <tbody>\n",
       "    <tr>\n",
       "      <th>0</th>\n",
       "      <td>1</td>\n",
       "      <td>Apple</td>\n",
       "      <td>MacBook Pro</td>\n",
       "      <td>Ultrabook</td>\n",
       "      <td>13.3</td>\n",
       "      <td>IPS Panel Retina Display 2560x1600</td>\n",
       "      <td>Intel Core i5 2.3GHz</td>\n",
       "      <td>8</td>\n",
       "      <td>128GB SSD</td>\n",
       "      <td>Intel Iris Plus Graphics 640</td>\n",
       "      <td>macOS</td>\n",
       "      <td>1.37</td>\n",
       "      <td>1339.69</td>\n",
       "      <td>0</td>\n",
       "      <td>1</td>\n",
       "      <td>IPS Panel Retina Display 2560</td>\n",
       "      <td>1600</td>\n",
       "    </tr>\n",
       "    <tr>\n",
       "      <th>1</th>\n",
       "      <td>2</td>\n",
       "      <td>Apple</td>\n",
       "      <td>Macbook Air</td>\n",
       "      <td>Ultrabook</td>\n",
       "      <td>13.3</td>\n",
       "      <td>1440x900</td>\n",
       "      <td>Intel Core i5 1.8GHz</td>\n",
       "      <td>8</td>\n",
       "      <td>128GB Flash Storage</td>\n",
       "      <td>Intel HD Graphics 6000</td>\n",
       "      <td>macOS</td>\n",
       "      <td>1.34</td>\n",
       "      <td>898.94</td>\n",
       "      <td>0</td>\n",
       "      <td>0</td>\n",
       "      <td>1440</td>\n",
       "      <td>900</td>\n",
       "    </tr>\n",
       "  </tbody>\n",
       "</table>\n",
       "</div>"
      ],
      "text/plain": [
       "   laptop_ID Company      Product   TypeName  Inches  \\\n",
       "0          1   Apple  MacBook Pro  Ultrabook    13.3   \n",
       "1          2   Apple  Macbook Air  Ultrabook    13.3   \n",
       "\n",
       "                     ScreenResolution                   Cpu  Ram  \\\n",
       "0  IPS Panel Retina Display 2560x1600  Intel Core i5 2.3GHz    8   \n",
       "1                            1440x900  Intel Core i5 1.8GHz    8   \n",
       "\n",
       "                Memory                           Gpu  OpSys  Weight  \\\n",
       "0            128GB SSD  Intel Iris Plus Graphics 640  macOS    1.37   \n",
       "1  128GB Flash Storage        Intel HD Graphics 6000  macOS    1.34   \n",
       "\n",
       "   Price_euros  Touchscreen  IPS                          X_res Y_res  \n",
       "0      1339.69            0    1  IPS Panel Retina Display 2560  1600  \n",
       "1       898.94            0    0                           1440   900  "
      ]
     },
     "execution_count": 551,
     "metadata": {},
     "output_type": "execute_result"
    }
   ],
   "source": [
    "data.head(2)"
   ]
  },
  {
   "cell_type": "code",
   "execution_count": 552,
   "id": "d0f301ea-e512-4abe-8486-257faecb676e",
   "metadata": {
    "tags": []
   },
   "outputs": [],
   "source": [
    "data['X_res'] = data['X_res'].str.replace(',','').str.findall(r'(\\d+\\.?\\d+)').apply(lambda x:x[0])"
   ]
  },
  {
   "cell_type": "code",
   "execution_count": 553,
   "id": "7269e68f-a4fd-4801-a131-38394eda7269",
   "metadata": {
    "tags": []
   },
   "outputs": [],
   "source": [
    "data['X_res'] = data['X_res'].astype('int')\n",
    "data['Y_res'] = data['Y_res'].astype('int')"
   ]
  },
  {
   "cell_type": "code",
   "execution_count": 554,
   "id": "3cdcc3fd-b85a-49ad-8009-c82c1591fed3",
   "metadata": {
    "tags": []
   },
   "outputs": [],
   "source": [
    "#ppi\n",
    "data['ppi'] = (((data['X_res']**2)+(data['Y_res']**2))**0.5/data['Inches']).astype('float')"
   ]
  },
  {
   "cell_type": "code",
   "execution_count": 555,
   "id": "a5cfad75-1005-45b3-b67f-800605d22c0c",
   "metadata": {
    "tags": []
   },
   "outputs": [
    {
     "data": {
      "text/html": [
       "<div>\n",
       "<style scoped>\n",
       "    .dataframe tbody tr th:only-of-type {\n",
       "        vertical-align: middle;\n",
       "    }\n",
       "\n",
       "    .dataframe tbody tr th {\n",
       "        vertical-align: top;\n",
       "    }\n",
       "\n",
       "    .dataframe thead th {\n",
       "        text-align: right;\n",
       "    }\n",
       "</style>\n",
       "<table border=\"1\" class=\"dataframe\">\n",
       "  <thead>\n",
       "    <tr style=\"text-align: right;\">\n",
       "      <th></th>\n",
       "      <th>laptop_ID</th>\n",
       "      <th>Company</th>\n",
       "      <th>Product</th>\n",
       "      <th>TypeName</th>\n",
       "      <th>Inches</th>\n",
       "      <th>ScreenResolution</th>\n",
       "      <th>Cpu</th>\n",
       "      <th>Ram</th>\n",
       "      <th>Memory</th>\n",
       "      <th>Gpu</th>\n",
       "      <th>OpSys</th>\n",
       "      <th>Weight</th>\n",
       "      <th>Price_euros</th>\n",
       "      <th>Touchscreen</th>\n",
       "      <th>IPS</th>\n",
       "      <th>X_res</th>\n",
       "      <th>Y_res</th>\n",
       "      <th>ppi</th>\n",
       "    </tr>\n",
       "  </thead>\n",
       "  <tbody>\n",
       "    <tr>\n",
       "      <th>0</th>\n",
       "      <td>1</td>\n",
       "      <td>Apple</td>\n",
       "      <td>MacBook Pro</td>\n",
       "      <td>Ultrabook</td>\n",
       "      <td>13.3</td>\n",
       "      <td>IPS Panel Retina Display 2560x1600</td>\n",
       "      <td>Intel Core i5 2.3GHz</td>\n",
       "      <td>8</td>\n",
       "      <td>128GB SSD</td>\n",
       "      <td>Intel Iris Plus Graphics 640</td>\n",
       "      <td>macOS</td>\n",
       "      <td>1.37</td>\n",
       "      <td>1339.69</td>\n",
       "      <td>0</td>\n",
       "      <td>1</td>\n",
       "      <td>2560</td>\n",
       "      <td>1600</td>\n",
       "      <td>226.983005</td>\n",
       "    </tr>\n",
       "    <tr>\n",
       "      <th>1</th>\n",
       "      <td>2</td>\n",
       "      <td>Apple</td>\n",
       "      <td>Macbook Air</td>\n",
       "      <td>Ultrabook</td>\n",
       "      <td>13.3</td>\n",
       "      <td>1440x900</td>\n",
       "      <td>Intel Core i5 1.8GHz</td>\n",
       "      <td>8</td>\n",
       "      <td>128GB Flash Storage</td>\n",
       "      <td>Intel HD Graphics 6000</td>\n",
       "      <td>macOS</td>\n",
       "      <td>1.34</td>\n",
       "      <td>898.94</td>\n",
       "      <td>0</td>\n",
       "      <td>0</td>\n",
       "      <td>1440</td>\n",
       "      <td>900</td>\n",
       "      <td>127.677940</td>\n",
       "    </tr>\n",
       "  </tbody>\n",
       "</table>\n",
       "</div>"
      ],
      "text/plain": [
       "   laptop_ID Company      Product   TypeName  Inches  \\\n",
       "0          1   Apple  MacBook Pro  Ultrabook    13.3   \n",
       "1          2   Apple  Macbook Air  Ultrabook    13.3   \n",
       "\n",
       "                     ScreenResolution                   Cpu  Ram  \\\n",
       "0  IPS Panel Retina Display 2560x1600  Intel Core i5 2.3GHz    8   \n",
       "1                            1440x900  Intel Core i5 1.8GHz    8   \n",
       "\n",
       "                Memory                           Gpu  OpSys  Weight  \\\n",
       "0            128GB SSD  Intel Iris Plus Graphics 640  macOS    1.37   \n",
       "1  128GB Flash Storage        Intel HD Graphics 6000  macOS    1.34   \n",
       "\n",
       "   Price_euros  Touchscreen  IPS  X_res  Y_res         ppi  \n",
       "0      1339.69            0    1   2560   1600  226.983005  \n",
       "1       898.94            0    0   1440    900  127.677940  "
      ]
     },
     "execution_count": 555,
     "metadata": {},
     "output_type": "execute_result"
    }
   ],
   "source": [
    "data.head(2)"
   ]
  },
  {
   "cell_type": "markdown",
   "id": "994e82da-0a14-4335-ac7b-3f5e3c14f0a7",
   "metadata": {},
   "source": [
    "### 1.6 CPU"
   ]
  },
  {
   "cell_type": "code",
   "execution_count": 468,
   "id": "a35c31e6-5c9e-4be8-a851-f95dba425f35",
   "metadata": {},
   "outputs": [
    {
     "name": "stdout",
     "output_type": "stream",
     "text": [
      "Intel Core i5 7200U 2.5GHz       190\n",
      "Intel Core i7 7700HQ 2.8GHz      146\n",
      "Intel Core i7 7500U 2.7GHz       134\n",
      "Intel Core i7 8550U 1.8GHz        73\n",
      "Intel Core i5 8250U 1.6GHz        72\n",
      "                                ... \n",
      "Intel Core M M3-6Y30 0.9GHz        1\n",
      "AMD A9-Series 9420 2.9GHz          1\n",
      "Intel Core i3 6006U 2.2GHz         1\n",
      "AMD A6-Series 7310 2GHz            1\n",
      "Intel Xeon E3-1535M v6 3.1GHz      1\n",
      "Name: Cpu, Length: 118, dtype: int64\n",
      "\n",
      "Total No of diffetent types :  118\n"
     ]
    }
   ],
   "source": [
    "# Cpu\n",
    "#ScreenResolution\n",
    "print(data['Cpu'].value_counts())\n",
    "print(\"\\nTotal No of diffetent types : \",len(data['Cpu'].value_counts()))"
   ]
  },
  {
   "cell_type": "code",
   "execution_count": 469,
   "id": "526bfff9-8334-4554-af84-90eb841ee14e",
   "metadata": {},
   "outputs": [],
   "source": [
    "data['Cpu_name'] = data['Cpu'].apply(lambda x:\" \".join(x.split()[0:3]))"
   ]
  },
  {
   "cell_type": "code",
   "execution_count": 470,
   "id": "b4fbc085-dbe3-41cd-81a6-27b56e72e366",
   "metadata": {},
   "outputs": [
    {
     "data": {
      "text/plain": [
       "Intel Core i7               527\n",
       "Intel Core i5               423\n",
       "Intel Core i3               136\n",
       "Intel Celeron Dual           80\n",
       "Intel Pentium Quad           27\n",
       "Intel Core M                 19\n",
       "AMD A9-Series 9420           12\n",
       "Intel Celeron Quad            8\n",
       "AMD A6-Series 9220            8\n",
       "AMD A12-Series 9720P          7\n",
       "Intel Atom x5-Z8350           5\n",
       "AMD A8-Series 7410            4\n",
       "Intel Atom x5-Z8550           4\n",
       "Intel Pentium Dual            3\n",
       "AMD A9-Series 9410            3\n",
       "AMD Ryzen 1700                3\n",
       "AMD A9-Series A9-9420         2\n",
       "AMD A10-Series 9620P          2\n",
       "Intel Atom X5-Z8350           2\n",
       "AMD E-Series E2-9000e         2\n",
       "Intel Xeon E3-1535M           2\n",
       "Intel Xeon E3-1505M           2\n",
       "AMD E-Series 7110             2\n",
       "AMD A10-Series 9600P          2\n",
       "AMD A6-Series A6-9220         2\n",
       "AMD A10-Series A10-9620P      2\n",
       "AMD Ryzen 1600                1\n",
       "Intel Atom x5-Z8300           1\n",
       "AMD E-Series E2-6110          1\n",
       "AMD FX 9830P                  1\n",
       "AMD E-Series E2-9000          1\n",
       "AMD A6-Series 7310            1\n",
       "Intel Atom Z8350              1\n",
       "AMD A12-Series 9700P          1\n",
       "AMD A4-Series 7210            1\n",
       "AMD FX 8800P                  1\n",
       "AMD E-Series 9000e            1\n",
       "Samsung Cortex A72&A53        1\n",
       "AMD E-Series 9000             1\n",
       "AMD E-Series 6110             1\n",
       "Name: Cpu_name, dtype: int64"
      ]
     },
     "execution_count": 470,
     "metadata": {},
     "output_type": "execute_result"
    }
   ],
   "source": [
    "data['Cpu_name'].value_counts()"
   ]
  },
  {
   "cell_type": "code",
   "execution_count": 471,
   "id": "6e420510-ea8a-4b13-b923-f9d61ad6d443",
   "metadata": {},
   "outputs": [],
   "source": [
    "# Categorize in to 5 categories--> 'Intel Core i5', 'Intel Core i3', 'Intel Core i6', 'AMD', 'Other'\n",
    "def set_processor(name):\n",
    "    if name == 'Intel Core i7' or name == 'Intel Core i5' or name == 'Intel Core i3' :\n",
    "        return name\n",
    "    else:\n",
    "        if name.split()[0] == 'AMD':\n",
    "            return 'AMD'\n",
    "        else:\n",
    "            return 'Other'\n",
    "\n",
    "data['Cpu_name']  = data['Cpu_name'].apply(set_processor)"
   ]
  },
  {
   "cell_type": "code",
   "execution_count": 472,
   "id": "c1131a29-0526-458d-a4f5-331a9e82dc09",
   "metadata": {},
   "outputs": [
    {
     "data": {
      "text/plain": [
       "Intel Core i7    527\n",
       "Intel Core i5    423\n",
       "Other            155\n",
       "Intel Core i3    136\n",
       "AMD               62\n",
       "Name: Cpu_name, dtype: int64"
      ]
     },
     "execution_count": 472,
     "metadata": {},
     "output_type": "execute_result"
    }
   ],
   "source": [
    "data['Cpu_name'].value_counts()"
   ]
  },
  {
   "cell_type": "code",
   "execution_count": 473,
   "id": "e4fc91a6-4e20-408a-9091-ee6d1a81af33",
   "metadata": {
    "tags": []
   },
   "outputs": [
    {
     "data": {
      "text/plain": [
       "Text(0, 0.5, 'Count')"
      ]
     },
     "execution_count": 473,
     "metadata": {},
     "output_type": "execute_result"
    },
    {
     "data": {
      "image/png": "[encoded data removed]",
      "text/plain": [
       "<Figure size 600x400 with 1 Axes>"
      ]
     },
     "metadata": {},
     "output_type": "display_data"
    }
   ],
   "source": [
    "data['Cpu_name'].value_counts().plot(kind='bar')\n",
    "plt.title('CPU')\n",
    "plt.xlabel('CPU brand')\n",
    "plt.ylabel('Count')"
   ]
  },
  {
   "cell_type": "code",
   "execution_count": 474,
   "id": "3f8acd7f-e15d-4b84-a37b-d46eb6cdeb90",
   "metadata": {
    "tags": []
   },
   "outputs": [
    {
     "data": {
      "text/plain": [
       "Text(0, 0.5, 'Total Income')"
      ]
     },
     "execution_count": 474,
     "metadata": {},
     "output_type": "execute_result"
    },
    {
     "data": {
      "image/png": "[encoded data removed]",
      "text/plain": [
       "<Figure size 600x400 with 1 Axes>"
      ]
     },
     "metadata": {},
     "output_type": "display_data"
    }
   ],
   "source": [
    "#Total income by processor\n",
    "sns.barplot(x = data['Cpu_name'], y = data['Price_euros'])\n",
    "plt.title('Total sales by Processor')\n",
    "plt.xlabel('Processor')\n",
    "plt.xticks(rotation='vertical')\n",
    "plt.ylabel('Total Income')"
   ]
  },
  {
   "cell_type": "markdown",
   "id": "17e21100-0946-423c-8372-663754a0b0e7",
   "metadata": {},
   "source": [
    "### 1.7 GPU"
   ]
  },
  {
   "cell_type": "code",
   "execution_count": 475,
   "id": "f2caa365-f8cd-428f-88ec-96ddd300b747",
   "metadata": {},
   "outputs": [
    {
     "name": "stdout",
     "output_type": "stream",
     "text": [
      "Intel HD Graphics 620      281\n",
      "Intel HD Graphics 520      185\n",
      "Intel UHD Graphics 620      68\n",
      "Nvidia GeForce GTX 1050     66\n",
      "Nvidia GeForce GTX 1060     48\n",
      "                          ... \n",
      "AMD Radeon R5 520            1\n",
      "AMD Radeon R7                1\n",
      "Intel HD Graphics 540        1\n",
      "AMD Radeon 540               1\n",
      "ARM Mali T860 MP4            1\n",
      "Name: Gpu, Length: 110, dtype: int64\n",
      "\n",
      "Total No of diffetent types :  110\n"
     ]
    }
   ],
   "source": [
    "#GPU\n",
    "print(data['Gpu'].value_counts())\n",
    "print(\"\\nTotal No of diffetent types : \",len(data['Gpu'].value_counts()))"
   ]
  },
  {
   "cell_type": "code",
   "execution_count": 476,
   "id": "139ae79f-28bf-4c2f-97a1-160636539f4c",
   "metadata": {},
   "outputs": [],
   "source": [
    "data['Gpu_name'] = data['Gpu'].apply(lambda x:\" \".join(x.split()[0:1])) "
   ]
  },
  {
   "cell_type": "code",
   "execution_count": 477,
   "id": "e78ffce6-ddc7-4739-8953-7001ee4ee5d8",
   "metadata": {},
   "outputs": [
    {
     "data": {
      "text/plain": [
       "Intel     722\n",
       "Nvidia    400\n",
       "AMD       180\n",
       "ARM         1\n",
       "Name: Gpu_name, dtype: int64"
      ]
     },
     "execution_count": 477,
     "metadata": {},
     "output_type": "execute_result"
    }
   ],
   "source": [
    "data['Gpu_name'].value_counts()"
   ]
  },
  {
   "cell_type": "code",
   "execution_count": 478,
   "id": "f74c8097-5759-49ab-9ac9-bb6e8425df3f",
   "metadata": {},
   "outputs": [],
   "source": [
    "#Remove 'ARM'\n",
    "data = data[data['Gpu_name'] != 'ARM']"
   ]
  },
  {
   "cell_type": "code",
   "execution_count": 479,
   "id": "e272ac55-da41-429b-817b-ada1cfd1c8e8",
   "metadata": {
    "tags": []
   },
   "outputs": [
    {
     "data": {
      "text/plain": [
       "Text(0, 0.5, 'Total Income')"
      ]
     },
     "execution_count": 479,
     "metadata": {},
     "output_type": "execute_result"
    },
    {
     "data": {
      "image/png": "[encoded data removed]",
      "text/plain": [
       "<Figure size 600x400 with 1 Axes>"
      ]
     },
     "metadata": {},
     "output_type": "display_data"
    }
   ],
   "source": [
    "#Total income by GPU\n",
    "sns.barplot(x = data['Gpu_name'], y = data['Price_euros'])\n",
    "plt.title('Total sales by GPU')\n",
    "plt.xlabel('GPU')\n",
    "plt.xticks(rotation='vertical')\n",
    "plt.ylabel('Total Income')"
   ]
  },
  {
   "cell_type": "markdown",
   "id": "195acb36-bc26-4e95-9f4e-3ece93981e7d",
   "metadata": {},
   "source": [
    "### 1.8 Operating System "
   ]
  },
  {
   "cell_type": "code",
   "execution_count": 480,
   "id": "cfbc5f29-b481-45ab-a030-3bbb88ccbc8e",
   "metadata": {},
   "outputs": [
    {
     "name": "stdout",
     "output_type": "stream",
     "text": [
      "Windows 10      1072\n",
      "No OS             66\n",
      "Linux             62\n",
      "Windows 7         45\n",
      "Chrome OS         26\n",
      "macOS             13\n",
      "Mac OS X           8\n",
      "Windows 10 S       8\n",
      "Android            2\n",
      "Name: OpSys, dtype: int64\n",
      "\n",
      "Total No of diffetent types :  9\n"
     ]
    }
   ],
   "source": [
    "#OpSys\n",
    "print(data['OpSys'].value_counts())\n",
    "print(\"\\nTotal No of diffetent types : \",len(data['OpSys'].value_counts()))"
   ]
  },
  {
   "cell_type": "code",
   "execution_count": 481,
   "id": "6960fac2-1f2b-4112-8800-fc1901adb8aa",
   "metadata": {},
   "outputs": [],
   "source": [
    "# Consider 4 categories --> 'Windows', 'macOS', 'Linux', 'Other'\n",
    "def set_os(input):\n",
    "    if input == 'Windows 10' or input == 'Windows 7' or input == 'Windows 10 S':\n",
    "        return 'Windows'\n",
    "    elif input == 'macOS' or input == 'Mac OS X':\n",
    "        return 'Mac'\n",
    "    elif input == 'Linux':\n",
    "        return input\n",
    "    else:\n",
    "        return 'Other'\n",
    "\n",
    "data['OpSys'] = data['OpSys'].apply(set_os)"
   ]
  },
  {
   "cell_type": "code",
   "execution_count": 482,
   "id": "4f19ef77-911b-4153-ae64-23db3bf0d269",
   "metadata": {},
   "outputs": [
    {
     "name": "stdout",
     "output_type": "stream",
     "text": [
      "Windows    1125\n",
      "Other        94\n",
      "Linux        62\n",
      "Mac          21\n",
      "Name: OpSys, dtype: int64\n"
     ]
    }
   ],
   "source": [
    "#OpSys\n",
    "print(data['OpSys'].value_counts())"
   ]
  },
  {
   "cell_type": "code",
   "execution_count": 483,
   "id": "c42980ca-9556-4a5c-a40f-c77a61c1464b",
   "metadata": {
    "tags": []
   },
   "outputs": [
    {
     "data": {
      "text/plain": [
       "Text(0, 0.5, 'Total Income')"
      ]
     },
     "execution_count": 483,
     "metadata": {},
     "output_type": "execute_result"
    },
    {
     "data": {
      "image/png": "[encoded data removed]",
      "text/plain": [
       "<Figure size 600x400 with 1 Axes>"
      ]
     },
     "metadata": {},
     "output_type": "display_data"
    }
   ],
   "source": [
    "#Total income by OS\n",
    "sns.barplot(x = data['OpSys'], y = data['Price_euros'])\n",
    "plt.title('Total sales by Opearing System')\n",
    "plt.xlabel('Operating System')\n",
    "plt.xticks(rotation='vertical')\n",
    "plt.ylabel('Total Income')"
   ]
  },
  {
   "cell_type": "markdown",
   "id": "bf9b81ea-a2c8-4a63-97f3-0a42131736c0",
   "metadata": {},
   "source": [
    "### 1.9 RAM"
   ]
  },
  {
   "cell_type": "code",
   "execution_count": 484,
   "id": "d49c04ae-f9a6-49b1-bdef-3699e945646e",
   "metadata": {
    "tags": []
   },
   "outputs": [
    {
     "data": {
      "text/plain": [
       "Text(0, 0.5, 'Total Income')"
      ]
     },
     "execution_count": 484,
     "metadata": {},
     "output_type": "execute_result"
    },
    {
     "data": {
      "image/png": "[encoded data removed]",
      "text/plain": [
       "<Figure size 600x400 with 1 Axes>"
      ]
     },
     "metadata": {},
     "output_type": "display_data"
    }
   ],
   "source": [
    "#Total income by RAM\n",
    "sns.barplot(x = data['Ram'], y = data['Price_euros'])\n",
    "plt.title('Total sales by RAM')\n",
    "plt.xlabel('RAM')\n",
    "plt.xticks(rotation='vertical')\n",
    "plt.ylabel('Total Income')"
   ]
  },
  {
   "cell_type": "code",
   "execution_count": 485,
   "id": "d27f841b-a74b-41d8-a8d6-7a619d20e12d",
   "metadata": {
    "tags": []
   },
   "outputs": [
    {
     "name": "stdout",
     "output_type": "stream",
     "text": [
      "8     619\n",
      "4     374\n",
      "16    200\n",
      "6      41\n",
      "12     25\n",
      "2      22\n",
      "32     17\n",
      "24      3\n",
      "64      1\n",
      "Name: Ram, dtype: int64\n"
     ]
    }
   ],
   "source": [
    "print(data['Ram'].value_counts())"
   ]
  },
  {
   "cell_type": "markdown",
   "id": "1139d305-aa15-418f-98f8-2fdb89f117de",
   "metadata": {},
   "source": [
    "### 1.10 Memory"
   ]
  },
  {
   "cell_type": "code",
   "execution_count": 486,
   "id": "06f1e6db-3edd-4285-acc9-9cf544746602",
   "metadata": {
    "tags": []
   },
   "outputs": [
    {
     "name": "stdout",
     "output_type": "stream",
     "text": [
      "256GB SSD                        412\n",
      "1TB HDD                          223\n",
      "500GB HDD                        132\n",
      "512GB SSD                        118\n",
      "128GB SSD +  1TB HDD              94\n",
      "128GB SSD                         76\n",
      "256GB SSD +  1TB HDD              73\n",
      "32GB Flash Storage                37\n",
      "2TB HDD                           16\n",
      "64GB Flash Storage                15\n",
      "512GB SSD +  1TB HDD              14\n",
      "1TB SSD                           14\n",
      "256GB SSD +  2TB HDD              10\n",
      "1.0TB Hybrid                       9\n",
      "256GB Flash Storage                8\n",
      "16GB Flash Storage                 7\n",
      "32GB SSD                           6\n",
      "180GB SSD                          5\n",
      "128GB Flash Storage                4\n",
      "512GB SSD +  2TB HDD               3\n",
      "16GB SSD                           3\n",
      "512GB Flash Storage                2\n",
      "1TB SSD +  1TB HDD                 2\n",
      "256GB SSD +  500GB HDD             2\n",
      "128GB SSD +  2TB HDD               2\n",
      "256GB SSD +  256GB SSD             2\n",
      "512GB SSD +  256GB SSD             1\n",
      "512GB SSD +  512GB SSD             1\n",
      "64GB Flash Storage +  1TB HDD      1\n",
      "1TB HDD +  1TB HDD                 1\n",
      "32GB HDD                           1\n",
      "64GB SSD                           1\n",
      "128GB HDD                          1\n",
      "240GB SSD                          1\n",
      "8GB SSD                            1\n",
      "508GB Hybrid                       1\n",
      "1.0TB HDD                          1\n",
      "512GB SSD +  1.0TB Hybrid          1\n",
      "256GB SSD +  1.0TB Hybrid          1\n",
      "Name: Memory, dtype: int64\n"
     ]
    }
   ],
   "source": [
    "print(data['Memory'].value_counts())"
   ]
  },
  {
   "cell_type": "code",
   "execution_count": 487,
   "id": "726618c1-d73b-43d6-a1de-62a64ae2a360",
   "metadata": {
    "tags": []
   },
   "outputs": [],
   "source": [
    "data['Memory'] = data['Memory'].astype(str).replace('\\.0','', regex = True)"
   ]
  },
  {
   "cell_type": "code",
   "execution_count": 488,
   "id": "2555731e-1b58-4fed-a459-980434709219",
   "metadata": {
    "tags": []
   },
   "outputs": [],
   "source": [
    "data['Memory'] = data['Memory'].str.replace('GB', '')\n",
    "data['Memory'] = data['Memory'].str.replace('TB', '000')"
   ]
  },
  {
   "cell_type": "code",
   "execution_count": 489,
   "id": "607e2128-aa80-4643-911f-e5b60f29d53c",
   "metadata": {
    "tags": []
   },
   "outputs": [],
   "source": [
    "new = data['Memory'].str.split('+', n = 1, expand = True)\n",
    "data['first'] = new[0]\n",
    "data['first'] = data['first'].str.strip()"
   ]
  },
  {
   "cell_type": "code",
   "execution_count": 490,
   "id": "31440eae-e1ec-4485-93e6-0db2fa1d8ac9",
   "metadata": {
    "tags": []
   },
   "outputs": [],
   "source": [
    "data['second'] = new[1]"
   ]
  },
  {
   "cell_type": "code",
   "execution_count": 491,
   "id": "5c1d41f6-584a-48e6-833a-200145c44733",
   "metadata": {
    "tags": []
   },
   "outputs": [],
   "source": [
    "data['Layer1HDD'] = data['first'].apply(lambda x: 1 if \"HDD\" in x else 0)\n",
    "data['Layer1SSD'] = data['first'].apply(lambda x: 1 if \"SSD\" in x else 0)\n",
    "data['Layer1Hybrid'] = data['first'].apply(lambda x: 1 if \"Hybrid\" in x else 0)\n",
    "data['Layer1Flash_storage'] = data['first'].apply(lambda x: 1 if \"Flash Storage\" in x else 0)"
   ]
  },
  {
   "cell_type": "code",
   "execution_count": 492,
   "id": "cc37a766-f8c9-4218-9ed3-7135306d5531",
   "metadata": {
    "tags": []
   },
   "outputs": [
    {
     "data": {
      "text/html": [
       "<div>\n",
       "<style scoped>\n",
       "    .dataframe tbody tr th:only-of-type {\n",
       "        vertical-align: middle;\n",
       "    }\n",
       "\n",
       "    .dataframe tbody tr th {\n",
       "        vertical-align: top;\n",
       "    }\n",
       "\n",
       "    .dataframe thead th {\n",
       "        text-align: right;\n",
       "    }\n",
       "</style>\n",
       "<table border=\"1\" class=\"dataframe\">\n",
       "  <thead>\n",
       "    <tr style=\"text-align: right;\">\n",
       "      <th></th>\n",
       "      <th>laptop_ID</th>\n",
       "      <th>Company</th>\n",
       "      <th>Product</th>\n",
       "      <th>TypeName</th>\n",
       "      <th>Inches</th>\n",
       "      <th>ScreenResolution</th>\n",
       "      <th>Cpu</th>\n",
       "      <th>Ram</th>\n",
       "      <th>Memory</th>\n",
       "      <th>Gpu</th>\n",
       "      <th>...</th>\n",
       "      <th>Y_res</th>\n",
       "      <th>ppi</th>\n",
       "      <th>Cpu_name</th>\n",
       "      <th>Gpu_name</th>\n",
       "      <th>first</th>\n",
       "      <th>second</th>\n",
       "      <th>Layer1HDD</th>\n",
       "      <th>Layer1SSD</th>\n",
       "      <th>Layer1Hybrid</th>\n",
       "      <th>Layer1Flash_storage</th>\n",
       "    </tr>\n",
       "  </thead>\n",
       "  <tbody>\n",
       "    <tr>\n",
       "      <th>0</th>\n",
       "      <td>1</td>\n",
       "      <td>Apple</td>\n",
       "      <td>MacBook Pro</td>\n",
       "      <td>Ultrabook</td>\n",
       "      <td>13.3</td>\n",
       "      <td>IPS Panel Retina Display 2560x1600</td>\n",
       "      <td>Intel Core i5 2.3GHz</td>\n",
       "      <td>8</td>\n",
       "      <td>128 SSD</td>\n",
       "      <td>Intel Iris Plus Graphics 640</td>\n",
       "      <td>...</td>\n",
       "      <td>1600</td>\n",
       "      <td>226.983005</td>\n",
       "      <td>Intel Core i5</td>\n",
       "      <td>Intel</td>\n",
       "      <td>128 SSD</td>\n",
       "      <td>None</td>\n",
       "      <td>0</td>\n",
       "      <td>1</td>\n",
       "      <td>0</td>\n",
       "      <td>0</td>\n",
       "    </tr>\n",
       "    <tr>\n",
       "      <th>1</th>\n",
       "      <td>2</td>\n",
       "      <td>Apple</td>\n",
       "      <td>Macbook Air</td>\n",
       "      <td>Ultrabook</td>\n",
       "      <td>13.3</td>\n",
       "      <td>1440x900</td>\n",
       "      <td>Intel Core i5 1.8GHz</td>\n",
       "      <td>8</td>\n",
       "      <td>128 Flash Storage</td>\n",
       "      <td>Intel HD Graphics 6000</td>\n",
       "      <td>...</td>\n",
       "      <td>900</td>\n",
       "      <td>127.677940</td>\n",
       "      <td>Intel Core i5</td>\n",
       "      <td>Intel</td>\n",
       "      <td>128 Flash Storage</td>\n",
       "      <td>None</td>\n",
       "      <td>0</td>\n",
       "      <td>0</td>\n",
       "      <td>0</td>\n",
       "      <td>1</td>\n",
       "    </tr>\n",
       "  </tbody>\n",
       "</table>\n",
       "<p>2 rows × 26 columns</p>\n",
       "</div>"
      ],
      "text/plain": [
       "   laptop_ID Company      Product   TypeName  Inches  \\\n",
       "0          1   Apple  MacBook Pro  Ultrabook    13.3   \n",
       "1          2   Apple  Macbook Air  Ultrabook    13.3   \n",
       "\n",
       "                     ScreenResolution                   Cpu  Ram  \\\n",
       "0  IPS Panel Retina Display 2560x1600  Intel Core i5 2.3GHz    8   \n",
       "1                            1440x900  Intel Core i5 1.8GHz    8   \n",
       "\n",
       "              Memory                           Gpu  ... Y_res         ppi  \\\n",
       "0            128 SSD  Intel Iris Plus Graphics 640  ...  1600  226.983005   \n",
       "1  128 Flash Storage        Intel HD Graphics 6000  ...   900  127.677940   \n",
       "\n",
       "        Cpu_name  Gpu_name              first  second  Layer1HDD  Layer1SSD  \\\n",
       "0  Intel Core i5     Intel            128 SSD    None          0          1   \n",
       "1  Intel Core i5     Intel  128 Flash Storage    None          0          0   \n",
       "\n",
       "  Layer1Hybrid Layer1Flash_storage  \n",
       "0            0                   0  \n",
       "1            0                   1  \n",
       "\n",
       "[2 rows x 26 columns]"
      ]
     },
     "execution_count": 492,
     "metadata": {},
     "output_type": "execute_result"
    }
   ],
   "source": [
    "data.head(2)"
   ]
  },
  {
   "cell_type": "code",
   "execution_count": 493,
   "id": "f51a669a-fd2f-4829-87e1-d11c74460ba0",
   "metadata": {
    "tags": []
   },
   "outputs": [],
   "source": [
    "data['first'] = data['first'].str.replace(r'\\D', '')"
   ]
  },
  {
   "cell_type": "code",
   "execution_count": 494,
   "id": "2889d1bf-b9cf-47f2-b071-6e14fee65b24",
   "metadata": {
    "tags": []
   },
   "outputs": [],
   "source": [
    "data['second'].fillna(\"0\", inplace=True)"
   ]
  },
  {
   "cell_type": "code",
   "execution_count": 495,
   "id": "9d7abe20-c695-4967-a758-fa0061aaa6d3",
   "metadata": {
    "tags": []
   },
   "outputs": [],
   "source": [
    "data['Layer2HDD'] = data['second'].apply(lambda x: 1 if \"HDD\" in x else 0)\n",
    "data['Layer2SSD'] = data['second'].apply(lambda x: 1 if \"SSD\" in x else 0)\n",
    "data['Layer2Hybrid'] = data['second'].apply(lambda x: 1 if \"Hybrid\" in x else 0)\n",
    "data['Layer2Flash_storage'] = data['second'].apply(lambda x: 1 if \"Flash Storage\" in x else 0)"
   ]
  },
  {
   "cell_type": "code",
   "execution_count": 496,
   "id": "95430e85-8ad4-4fc2-88b0-4f268f3dc2bd",
   "metadata": {
    "tags": []
   },
   "outputs": [],
   "source": [
    "data['second'] = data['second'].str.replace(r'\\D', '')"
   ]
  },
  {
   "cell_type": "code",
   "execution_count": 497,
   "id": "65906d9c-2608-4146-9505-950691e737a3",
   "metadata": {
    "tags": []
   },
   "outputs": [],
   "source": [
    "data['first'] = data['first'].astype(int)"
   ]
  },
  {
   "cell_type": "code",
   "execution_count": 498,
   "id": "66bb5c87-cadf-4e00-aabc-04a4767fa7da",
   "metadata": {
    "tags": []
   },
   "outputs": [],
   "source": [
    "data['second'] = data['second'].astype(int)"
   ]
  },
  {
   "cell_type": "code",
   "execution_count": 499,
   "id": "c2f0c12e-475a-4af0-a77d-9f4cd636d252",
   "metadata": {
    "tags": []
   },
   "outputs": [],
   "source": [
    "data['HDD'] =(data['first']*data['Layer1HDD']+data['second']*data['Layer2HDD'])\n",
    "data['SSD'] =(data['first']*data['Layer1SSD']+data['second']*data['Layer2SSD'])\n",
    "data['Hybrid'] =(data['first']*data['Layer1Hybrid']+data['second']*data['Layer2Hybrid'])\n",
    "data['Flash_Storage'] =(data['first']*data['Layer1Flash_storage']+data['second']*data['Layer2Flash_storage'])"
   ]
  },
  {
   "cell_type": "code",
   "execution_count": 500,
   "id": "e5f9e19a-8a7e-4acd-9d8c-f4395e3088fc",
   "metadata": {
    "tags": []
   },
   "outputs": [
    {
     "data": {
      "text/html": [
       "<div>\n",
       "<style scoped>\n",
       "    .dataframe tbody tr th:only-of-type {\n",
       "        vertical-align: middle;\n",
       "    }\n",
       "\n",
       "    .dataframe tbody tr th {\n",
       "        vertical-align: top;\n",
       "    }\n",
       "\n",
       "    .dataframe thead th {\n",
       "        text-align: right;\n",
       "    }\n",
       "</style>\n",
       "<table border=\"1\" class=\"dataframe\">\n",
       "  <thead>\n",
       "    <tr style=\"text-align: right;\">\n",
       "      <th></th>\n",
       "      <th>laptop_ID</th>\n",
       "      <th>Company</th>\n",
       "      <th>Product</th>\n",
       "      <th>TypeName</th>\n",
       "      <th>Inches</th>\n",
       "      <th>ScreenResolution</th>\n",
       "      <th>Cpu</th>\n",
       "      <th>Ram</th>\n",
       "      <th>Memory</th>\n",
       "      <th>Gpu</th>\n",
       "      <th>...</th>\n",
       "      <th>Layer1Hybrid</th>\n",
       "      <th>Layer1Flash_storage</th>\n",
       "      <th>Layer2HDD</th>\n",
       "      <th>Layer2SSD</th>\n",
       "      <th>Layer2Hybrid</th>\n",
       "      <th>Layer2Flash_storage</th>\n",
       "      <th>HDD</th>\n",
       "      <th>SSD</th>\n",
       "      <th>Hybrid</th>\n",
       "      <th>Flash_Storage</th>\n",
       "    </tr>\n",
       "  </thead>\n",
       "  <tbody>\n",
       "    <tr>\n",
       "      <th>0</th>\n",
       "      <td>1</td>\n",
       "      <td>Apple</td>\n",
       "      <td>MacBook Pro</td>\n",
       "      <td>Ultrabook</td>\n",
       "      <td>13.3</td>\n",
       "      <td>IPS Panel Retina Display 2560x1600</td>\n",
       "      <td>Intel Core i5 2.3GHz</td>\n",
       "      <td>8</td>\n",
       "      <td>128 SSD</td>\n",
       "      <td>Intel Iris Plus Graphics 640</td>\n",
       "      <td>...</td>\n",
       "      <td>0</td>\n",
       "      <td>0</td>\n",
       "      <td>0</td>\n",
       "      <td>0</td>\n",
       "      <td>0</td>\n",
       "      <td>0</td>\n",
       "      <td>0</td>\n",
       "      <td>128</td>\n",
       "      <td>0</td>\n",
       "      <td>0</td>\n",
       "    </tr>\n",
       "    <tr>\n",
       "      <th>1</th>\n",
       "      <td>2</td>\n",
       "      <td>Apple</td>\n",
       "      <td>Macbook Air</td>\n",
       "      <td>Ultrabook</td>\n",
       "      <td>13.3</td>\n",
       "      <td>1440x900</td>\n",
       "      <td>Intel Core i5 1.8GHz</td>\n",
       "      <td>8</td>\n",
       "      <td>128 Flash Storage</td>\n",
       "      <td>Intel HD Graphics 6000</td>\n",
       "      <td>...</td>\n",
       "      <td>0</td>\n",
       "      <td>1</td>\n",
       "      <td>0</td>\n",
       "      <td>0</td>\n",
       "      <td>0</td>\n",
       "      <td>0</td>\n",
       "      <td>0</td>\n",
       "      <td>0</td>\n",
       "      <td>0</td>\n",
       "      <td>128</td>\n",
       "    </tr>\n",
       "  </tbody>\n",
       "</table>\n",
       "<p>2 rows × 34 columns</p>\n",
       "</div>"
      ],
      "text/plain": [
       "   laptop_ID Company      Product   TypeName  Inches  \\\n",
       "0          1   Apple  MacBook Pro  Ultrabook    13.3   \n",
       "1          2   Apple  Macbook Air  Ultrabook    13.3   \n",
       "\n",
       "                     ScreenResolution                   Cpu  Ram  \\\n",
       "0  IPS Panel Retina Display 2560x1600  Intel Core i5 2.3GHz    8   \n",
       "1                            1440x900  Intel Core i5 1.8GHz    8   \n",
       "\n",
       "              Memory                           Gpu  ... Layer1Hybrid  \\\n",
       "0            128 SSD  Intel Iris Plus Graphics 640  ...            0   \n",
       "1  128 Flash Storage        Intel HD Graphics 6000  ...            0   \n",
       "\n",
       "   Layer1Flash_storage  Layer2HDD  Layer2SSD  Layer2Hybrid  \\\n",
       "0                    0          0          0             0   \n",
       "1                    1          0          0             0   \n",
       "\n",
       "   Layer2Flash_storage  HDD  SSD Hybrid Flash_Storage  \n",
       "0                    0    0  128      0             0  \n",
       "1                    0    0    0      0           128  \n",
       "\n",
       "[2 rows x 34 columns]"
      ]
     },
     "execution_count": 500,
     "metadata": {},
     "output_type": "execute_result"
    }
   ],
   "source": [
    "data.head(2)"
   ]
  },
  {
   "cell_type": "code",
   "execution_count": 501,
   "id": "0f5e6b88-b36c-4f20-b875-f0b6524a47fa",
   "metadata": {
    "tags": []
   },
   "outputs": [],
   "source": [
    "data.drop(columns=['first', 'second', 'Layer1HDD', 'Layer1SSD', 'Layer1Hybrid', 'Layer1Flash_storage', \n",
    "                  'Layer2HDD', 'Layer2SSD', 'Layer2Hybrid', 'Layer2Flash_storage'], inplace = True)"
   ]
  },
  {
   "cell_type": "code",
   "execution_count": 502,
   "id": "0e1caba8-0fc0-4b68-8983-e1949f9c3b26",
   "metadata": {
    "tags": []
   },
   "outputs": [
    {
     "data": {
      "text/html": [
       "<div>\n",
       "<style scoped>\n",
       "    .dataframe tbody tr th:only-of-type {\n",
       "        vertical-align: middle;\n",
       "    }\n",
       "\n",
       "    .dataframe tbody tr th {\n",
       "        vertical-align: top;\n",
       "    }\n",
       "\n",
       "    .dataframe thead th {\n",
       "        text-align: right;\n",
       "    }\n",
       "</style>\n",
       "<table border=\"1\" class=\"dataframe\">\n",
       "  <thead>\n",
       "    <tr style=\"text-align: right;\">\n",
       "      <th></th>\n",
       "      <th>laptop_ID</th>\n",
       "      <th>Company</th>\n",
       "      <th>Product</th>\n",
       "      <th>TypeName</th>\n",
       "      <th>Inches</th>\n",
       "      <th>ScreenResolution</th>\n",
       "      <th>Cpu</th>\n",
       "      <th>Ram</th>\n",
       "      <th>Memory</th>\n",
       "      <th>Gpu</th>\n",
       "      <th>...</th>\n",
       "      <th>IPS</th>\n",
       "      <th>X_res</th>\n",
       "      <th>Y_res</th>\n",
       "      <th>ppi</th>\n",
       "      <th>Cpu_name</th>\n",
       "      <th>Gpu_name</th>\n",
       "      <th>HDD</th>\n",
       "      <th>SSD</th>\n",
       "      <th>Hybrid</th>\n",
       "      <th>Flash_Storage</th>\n",
       "    </tr>\n",
       "  </thead>\n",
       "  <tbody>\n",
       "    <tr>\n",
       "      <th>0</th>\n",
       "      <td>1</td>\n",
       "      <td>Apple</td>\n",
       "      <td>MacBook Pro</td>\n",
       "      <td>Ultrabook</td>\n",
       "      <td>13.3</td>\n",
       "      <td>IPS Panel Retina Display 2560x1600</td>\n",
       "      <td>Intel Core i5 2.3GHz</td>\n",
       "      <td>8</td>\n",
       "      <td>128 SSD</td>\n",
       "      <td>Intel Iris Plus Graphics 640</td>\n",
       "      <td>...</td>\n",
       "      <td>1</td>\n",
       "      <td>2560</td>\n",
       "      <td>1600</td>\n",
       "      <td>226.983005</td>\n",
       "      <td>Intel Core i5</td>\n",
       "      <td>Intel</td>\n",
       "      <td>0</td>\n",
       "      <td>128</td>\n",
       "      <td>0</td>\n",
       "      <td>0</td>\n",
       "    </tr>\n",
       "    <tr>\n",
       "      <th>1</th>\n",
       "      <td>2</td>\n",
       "      <td>Apple</td>\n",
       "      <td>Macbook Air</td>\n",
       "      <td>Ultrabook</td>\n",
       "      <td>13.3</td>\n",
       "      <td>1440x900</td>\n",
       "      <td>Intel Core i5 1.8GHz</td>\n",
       "      <td>8</td>\n",
       "      <td>128 Flash Storage</td>\n",
       "      <td>Intel HD Graphics 6000</td>\n",
       "      <td>...</td>\n",
       "      <td>0</td>\n",
       "      <td>1440</td>\n",
       "      <td>900</td>\n",
       "      <td>127.677940</td>\n",
       "      <td>Intel Core i5</td>\n",
       "      <td>Intel</td>\n",
       "      <td>0</td>\n",
       "      <td>0</td>\n",
       "      <td>0</td>\n",
       "      <td>128</td>\n",
       "    </tr>\n",
       "  </tbody>\n",
       "</table>\n",
       "<p>2 rows × 24 columns</p>\n",
       "</div>"
      ],
      "text/plain": [
       "   laptop_ID Company      Product   TypeName  Inches  \\\n",
       "0          1   Apple  MacBook Pro  Ultrabook    13.3   \n",
       "1          2   Apple  Macbook Air  Ultrabook    13.3   \n",
       "\n",
       "                     ScreenResolution                   Cpu  Ram  \\\n",
       "0  IPS Panel Retina Display 2560x1600  Intel Core i5 2.3GHz    8   \n",
       "1                            1440x900  Intel Core i5 1.8GHz    8   \n",
       "\n",
       "              Memory                           Gpu  ... IPS  X_res  Y_res  \\\n",
       "0            128 SSD  Intel Iris Plus Graphics 640  ...   1   2560   1600   \n",
       "1  128 Flash Storage        Intel HD Graphics 6000  ...   0   1440    900   \n",
       "\n",
       "          ppi       Cpu_name  Gpu_name  HDD  SSD Hybrid Flash_Storage  \n",
       "0  226.983005  Intel Core i5     Intel    0  128      0             0  \n",
       "1  127.677940  Intel Core i5     Intel    0    0      0           128  \n",
       "\n",
       "[2 rows x 24 columns]"
      ]
     },
     "execution_count": 502,
     "metadata": {},
     "output_type": "execute_result"
    }
   ],
   "source": [
    "data.head(2)"
   ]
  },
  {
   "cell_type": "code",
   "execution_count": 503,
   "id": "7e8a684e-0a64-49df-b11f-9ea744dc170c",
   "metadata": {
    "tags": []
   },
   "outputs": [
    {
     "data": {
      "text/plain": [
       "0       726\n",
       "1000    408\n",
       "500     134\n",
       "2000     32\n",
       "32        1\n",
       "128       1\n",
       "Name: HDD, dtype: int64"
      ]
     },
     "execution_count": 503,
     "metadata": {},
     "output_type": "execute_result"
    }
   ],
   "source": [
    "#HDD\n",
    "data['HDD'].value_counts()"
   ]
  },
  {
   "cell_type": "code",
   "execution_count": 504,
   "id": "a1b88b53-004a-4206-8eec-cedd46076943",
   "metadata": {
    "tags": []
   },
   "outputs": [],
   "source": [
    "#drop laptops HDD is 32GB and 128GB\n",
    "counts = data['HDD'].transform(lambda x: data['HDD'].value_counts()[x])\n",
    "data = data[counts >= 10]"
   ]
  },
  {
   "cell_type": "code",
   "execution_count": 505,
   "id": "bf540264-81ae-45d7-bd29-97adf9561074",
   "metadata": {
    "tags": []
   },
   "outputs": [
    {
     "data": {
      "text/plain": [
       "Text(0, 0.5, 'Count')"
      ]
     },
     "execution_count": 505,
     "metadata": {},
     "output_type": "execute_result"
    },
    {
     "data": {
      "image/png": "[encoded data removed]",
      "text/plain": [
       "<Figure size 600x400 with 1 Axes>"
      ]
     },
     "metadata": {},
     "output_type": "display_data"
    }
   ],
   "source": [
    "# No of laptops by HDD size\n",
    "data['HDD'].value_counts().plot(kind='bar')\n",
    "plt.title('No of Laptops by HDD size')\n",
    "plt.xlabel('HDD size')\n",
    "plt.ylabel('Count')"
   ]
  },
  {
   "cell_type": "code",
   "execution_count": 506,
   "id": "0f009b52-64e3-443c-bc7d-da627284c74f",
   "metadata": {
    "tags": []
   },
   "outputs": [
    {
     "data": {
      "text/plain": [
       "Text(0, 0.5, 'Total Income')"
      ]
     },
     "execution_count": 506,
     "metadata": {},
     "output_type": "execute_result"
    },
    {
     "data": {
      "image/png": "[encoded data removed]",
      "text/plain": [
       "<Figure size 600x400 with 1 Axes>"
      ]
     },
     "metadata": {},
     "output_type": "display_data"
    }
   ],
   "source": [
    "#Total income by SSD\n",
    "sns.barplot(x = data['HDD'], y = data['Price_euros'])\n",
    "plt.title('Total sales by HDD size')\n",
    "plt.xlabel('HDD size')\n",
    "plt.ylabel('Total Income')"
   ]
  },
  {
   "cell_type": "code",
   "execution_count": 507,
   "id": "c6f5cd71-f459-4087-a63a-910ffe365229",
   "metadata": {
    "tags": []
   },
   "outputs": [
    {
     "data": {
      "text/plain": [
       "256     498\n",
       "0       457\n",
       "128     172\n",
       "512     138\n",
       "1000     16\n",
       "32        6\n",
       "180       5\n",
       "16        3\n",
       "64        1\n",
       "1024      1\n",
       "768       1\n",
       "240       1\n",
       "8         1\n",
       "Name: SSD, dtype: int64"
      ]
     },
     "execution_count": 507,
     "metadata": {},
     "output_type": "execute_result"
    }
   ],
   "source": [
    "#SSD\n",
    "data['SSD'].value_counts()"
   ]
  },
  {
   "cell_type": "code",
   "execution_count": 508,
   "id": "b2442bf0-9413-4c4f-a267-d4c28f59c9fe",
   "metadata": {
    "tags": []
   },
   "outputs": [],
   "source": [
    "#drop laptops SSDs Less than 128GB\n",
    "count_ssd = data['SSD'].transform(lambda x: data['SSD'].value_counts()[x])\n",
    "data = data[count_ssd >= 10]"
   ]
  },
  {
   "cell_type": "code",
   "execution_count": 509,
   "id": "c11cef81-40e5-492a-b616-a90a1feb6383",
   "metadata": {
    "tags": []
   },
   "outputs": [
    {
     "data": {
      "text/plain": [
       "Text(0, 0.5, 'Count')"
      ]
     },
     "execution_count": 509,
     "metadata": {},
     "output_type": "execute_result"
    },
    {
     "data": {
      "image/png": "[encoded data removed]",
      "text/plain": [
       "<Figure size 600x400 with 1 Axes>"
      ]
     },
     "metadata": {},
     "output_type": "display_data"
    }
   ],
   "source": [
    "data['SSD'].value_counts().plot(kind='bar')\n",
    "plt.title('No of Laptops by SSD size')\n",
    "plt.xlabel('SSD size')\n",
    "plt.ylabel('Count')"
   ]
  },
  {
   "cell_type": "code",
   "execution_count": 510,
   "id": "7d8a1e2f-d575-480d-89f2-4d4441207bf9",
   "metadata": {
    "tags": []
   },
   "outputs": [
    {
     "data": {
      "text/plain": [
       "Text(0, 0.5, 'Total Income')"
      ]
     },
     "execution_count": 510,
     "metadata": {},
     "output_type": "execute_result"
    },
    {
     "data": {
      "image/png": "[encoded data removed]",
      "text/plain": [
       "<Figure size 600x400 with 1 Axes>"
      ]
     },
     "metadata": {},
     "output_type": "display_data"
    }
   ],
   "source": [
    "#Total income by SSD\n",
    "sns.barplot(x = data['SSD'], y = data['Price_euros'])\n",
    "plt.title('Total sales by SSD size')\n",
    "plt.xlabel('SSD size')\n",
    "plt.ylabel('Total Income')"
   ]
  },
  {
   "cell_type": "code",
   "execution_count": 511,
   "id": "48e2d6de-b7a6-4f68-88e9-fdffd1bdd6df",
   "metadata": {
    "tags": []
   },
   "outputs": [
    {
     "data": {
      "text/plain": [
       "0       1269\n",
       "1000      11\n",
       "508        1\n",
       "Name: Hybrid, dtype: int64"
      ]
     },
     "execution_count": 511,
     "metadata": {},
     "output_type": "execute_result"
    }
   ],
   "source": [
    "# Hybrid \n",
    "data['Hybrid'].value_counts()"
   ]
  },
  {
   "cell_type": "code",
   "execution_count": 512,
   "id": "b5dfcb06-cb49-4570-ad5a-5541309c9a76",
   "metadata": {
    "tags": []
   },
   "outputs": [
    {
     "data": {
      "text/plain": [
       "0      1207\n",
       "32       37\n",
       "64       16\n",
       "256       8\n",
       "16        7\n",
       "128       4\n",
       "512       2\n",
       "Name: Flash_Storage, dtype: int64"
      ]
     },
     "execution_count": 512,
     "metadata": {},
     "output_type": "execute_result"
    }
   ],
   "source": [
    "# Flash_storage\n",
    "data['Flash_Storage'].value_counts()"
   ]
  },
  {
   "cell_type": "code",
   "execution_count": 513,
   "id": "c47d9743-e4d0-49c9-acf4-6c9608dd2d78",
   "metadata": {
    "tags": []
   },
   "outputs": [
    {
     "data": {
      "text/plain": [
       "laptop_ID        0.066303\n",
       "Inches           0.061790\n",
       "Ram              0.744423\n",
       "Weight           0.209332\n",
       "Price_euros      1.000000\n",
       "Touchscreen      0.188983\n",
       "IPS              0.260421\n",
       "X_res            0.553798\n",
       "Y_res            0.551423\n",
       "ppi              0.473439\n",
       "HDD             -0.103888\n",
       "SSD              0.676247\n",
       "Hybrid           0.007370\n",
       "Flash_Storage   -0.041570\n",
       "Name: Price_euros, dtype: float64"
      ]
     },
     "execution_count": 513,
     "metadata": {},
     "output_type": "execute_result"
    }
   ],
   "source": [
    "# checking correlation\n",
    "data.corr()['Price_euros']"
   ]
  },
  {
   "cell_type": "code",
   "execution_count": 514,
   "id": "865230ad-3ac5-47fa-b8ae-a6ccb3221d56",
   "metadata": {},
   "outputs": [],
   "source": [
    "# Remove variables\n",
    "# 'laptop_ID' & 'Inches' --> useless\n",
    "# 'Product' --> Too many products , so the effect of the product is less.\n",
    "# ScreenResolution --> Only consider Touch capability and IPS\n",
    "# Cpu --> Since we make 'Cpu_name' column\n",
    "# Gpu --> Since we make 'Gpu_name' column\n",
    "# X_res, Y_res, Inches --> Since we use the relationship between these 3 variables and found 'ppi'\n",
    "# Memory\n",
    "#Hybrid, Flash_Storage --> Low correlation with price \n",
    "# Weight\n",
    "data = data.drop(['laptop_ID', 'Inches', 'Product', 'ScreenResolution', 'Weight','X_res', 'Y_res', 'Cpu', 'Gpu', 'Memory', 'Hybrid', 'Flash_Storage'], axis=1)"
   ]
  },
  {
   "cell_type": "code",
   "execution_count": 515,
   "id": "ad238eb3-0f92-4328-9e15-fa77e3d272d0",
   "metadata": {},
   "outputs": [
    {
     "data": {
      "text/html": [
       "<div>\n",
       "<style scoped>\n",
       "    .dataframe tbody tr th:only-of-type {\n",
       "        vertical-align: middle;\n",
       "    }\n",
       "\n",
       "    .dataframe tbody tr th {\n",
       "        vertical-align: top;\n",
       "    }\n",
       "\n",
       "    .dataframe thead th {\n",
       "        text-align: right;\n",
       "    }\n",
       "</style>\n",
       "<table border=\"1\" class=\"dataframe\">\n",
       "  <thead>\n",
       "    <tr style=\"text-align: right;\">\n",
       "      <th></th>\n",
       "      <th>Company</th>\n",
       "      <th>TypeName</th>\n",
       "      <th>Ram</th>\n",
       "      <th>OpSys</th>\n",
       "      <th>Price_euros</th>\n",
       "      <th>Touchscreen</th>\n",
       "      <th>IPS</th>\n",
       "      <th>ppi</th>\n",
       "      <th>Cpu_name</th>\n",
       "      <th>Gpu_name</th>\n",
       "      <th>HDD</th>\n",
       "      <th>SSD</th>\n",
       "    </tr>\n",
       "  </thead>\n",
       "  <tbody>\n",
       "    <tr>\n",
       "      <th>0</th>\n",
       "      <td>Apple</td>\n",
       "      <td>Ultrabook</td>\n",
       "      <td>8</td>\n",
       "      <td>Mac</td>\n",
       "      <td>1339.69</td>\n",
       "      <td>0</td>\n",
       "      <td>1</td>\n",
       "      <td>226.983005</td>\n",
       "      <td>Intel Core i5</td>\n",
       "      <td>Intel</td>\n",
       "      <td>0</td>\n",
       "      <td>128</td>\n",
       "    </tr>\n",
       "    <tr>\n",
       "      <th>1</th>\n",
       "      <td>Apple</td>\n",
       "      <td>Ultrabook</td>\n",
       "      <td>8</td>\n",
       "      <td>Mac</td>\n",
       "      <td>898.94</td>\n",
       "      <td>0</td>\n",
       "      <td>0</td>\n",
       "      <td>127.677940</td>\n",
       "      <td>Intel Core i5</td>\n",
       "      <td>Intel</td>\n",
       "      <td>0</td>\n",
       "      <td>0</td>\n",
       "    </tr>\n",
       "    <tr>\n",
       "      <th>2</th>\n",
       "      <td>HP</td>\n",
       "      <td>Notebook</td>\n",
       "      <td>8</td>\n",
       "      <td>Other</td>\n",
       "      <td>575.00</td>\n",
       "      <td>0</td>\n",
       "      <td>0</td>\n",
       "      <td>141.211998</td>\n",
       "      <td>Intel Core i5</td>\n",
       "      <td>Intel</td>\n",
       "      <td>0</td>\n",
       "      <td>256</td>\n",
       "    </tr>\n",
       "    <tr>\n",
       "      <th>3</th>\n",
       "      <td>Apple</td>\n",
       "      <td>Ultrabook</td>\n",
       "      <td>16</td>\n",
       "      <td>Mac</td>\n",
       "      <td>2537.45</td>\n",
       "      <td>0</td>\n",
       "      <td>1</td>\n",
       "      <td>220.534624</td>\n",
       "      <td>Intel Core i7</td>\n",
       "      <td>AMD</td>\n",
       "      <td>0</td>\n",
       "      <td>512</td>\n",
       "    </tr>\n",
       "    <tr>\n",
       "      <th>4</th>\n",
       "      <td>Apple</td>\n",
       "      <td>Ultrabook</td>\n",
       "      <td>8</td>\n",
       "      <td>Mac</td>\n",
       "      <td>1803.60</td>\n",
       "      <td>0</td>\n",
       "      <td>1</td>\n",
       "      <td>226.983005</td>\n",
       "      <td>Intel Core i5</td>\n",
       "      <td>Intel</td>\n",
       "      <td>0</td>\n",
       "      <td>256</td>\n",
       "    </tr>\n",
       "  </tbody>\n",
       "</table>\n",
       "</div>"
      ],
      "text/plain": [
       "  Company   TypeName  Ram  OpSys  Price_euros  Touchscreen  IPS         ppi  \\\n",
       "0   Apple  Ultrabook    8    Mac      1339.69            0    1  226.983005   \n",
       "1   Apple  Ultrabook    8    Mac       898.94            0    0  127.677940   \n",
       "2      HP   Notebook    8  Other       575.00            0    0  141.211998   \n",
       "3   Apple  Ultrabook   16    Mac      2537.45            0    1  220.534624   \n",
       "4   Apple  Ultrabook    8    Mac      1803.60            0    1  226.983005   \n",
       "\n",
       "        Cpu_name Gpu_name  HDD  SSD  \n",
       "0  Intel Core i5    Intel    0  128  \n",
       "1  Intel Core i5    Intel    0    0  \n",
       "2  Intel Core i5    Intel    0  256  \n",
       "3  Intel Core i7      AMD    0  512  \n",
       "4  Intel Core i5    Intel    0  256  "
      ]
     },
     "execution_count": 515,
     "metadata": {},
     "output_type": "execute_result"
    }
   ],
   "source": [
    "data.head(5)"
   ]
  },
  {
   "cell_type": "code",
   "execution_count": 516,
   "id": "416f9640-8440-4a10-a070-1ddc720868c1",
   "metadata": {},
   "outputs": [],
   "source": [
    "# one-hot encoding\n",
    "data = pd.get_dummies(data)"
   ]
  },
  {
   "cell_type": "code",
   "execution_count": 517,
   "id": "028d0374-6ad6-401a-a230-2fbafae6823f",
   "metadata": {},
   "outputs": [
    {
     "data": {
      "text/html": [
       "<div>\n",
       "<style scoped>\n",
       "    .dataframe tbody tr th:only-of-type {\n",
       "        vertical-align: middle;\n",
       "    }\n",
       "\n",
       "    .dataframe tbody tr th {\n",
       "        vertical-align: top;\n",
       "    }\n",
       "\n",
       "    .dataframe thead th {\n",
       "        text-align: right;\n",
       "    }\n",
       "</style>\n",
       "<table border=\"1\" class=\"dataframe\">\n",
       "  <thead>\n",
       "    <tr style=\"text-align: right;\">\n",
       "      <th></th>\n",
       "      <th>Ram</th>\n",
       "      <th>Price_euros</th>\n",
       "      <th>Touchscreen</th>\n",
       "      <th>IPS</th>\n",
       "      <th>ppi</th>\n",
       "      <th>HDD</th>\n",
       "      <th>SSD</th>\n",
       "      <th>Company_Acer</th>\n",
       "      <th>Company_Apple</th>\n",
       "      <th>Company_Asus</th>\n",
       "      <th>...</th>\n",
       "      <th>OpSys_Other</th>\n",
       "      <th>OpSys_Windows</th>\n",
       "      <th>Cpu_name_AMD</th>\n",
       "      <th>Cpu_name_Intel Core i3</th>\n",
       "      <th>Cpu_name_Intel Core i5</th>\n",
       "      <th>Cpu_name_Intel Core i7</th>\n",
       "      <th>Cpu_name_Other</th>\n",
       "      <th>Gpu_name_AMD</th>\n",
       "      <th>Gpu_name_Intel</th>\n",
       "      <th>Gpu_name_Nvidia</th>\n",
       "    </tr>\n",
       "  </thead>\n",
       "  <tbody>\n",
       "    <tr>\n",
       "      <th>0</th>\n",
       "      <td>8</td>\n",
       "      <td>1339.69</td>\n",
       "      <td>0</td>\n",
       "      <td>1</td>\n",
       "      <td>226.983005</td>\n",
       "      <td>0</td>\n",
       "      <td>128</td>\n",
       "      <td>0</td>\n",
       "      <td>1</td>\n",
       "      <td>0</td>\n",
       "      <td>...</td>\n",
       "      <td>0</td>\n",
       "      <td>0</td>\n",
       "      <td>0</td>\n",
       "      <td>0</td>\n",
       "      <td>1</td>\n",
       "      <td>0</td>\n",
       "      <td>0</td>\n",
       "      <td>0</td>\n",
       "      <td>1</td>\n",
       "      <td>0</td>\n",
       "    </tr>\n",
       "    <tr>\n",
       "      <th>1</th>\n",
       "      <td>8</td>\n",
       "      <td>898.94</td>\n",
       "      <td>0</td>\n",
       "      <td>0</td>\n",
       "      <td>127.677940</td>\n",
       "      <td>0</td>\n",
       "      <td>0</td>\n",
       "      <td>0</td>\n",
       "      <td>1</td>\n",
       "      <td>0</td>\n",
       "      <td>...</td>\n",
       "      <td>0</td>\n",
       "      <td>0</td>\n",
       "      <td>0</td>\n",
       "      <td>0</td>\n",
       "      <td>1</td>\n",
       "      <td>0</td>\n",
       "      <td>0</td>\n",
       "      <td>0</td>\n",
       "      <td>1</td>\n",
       "      <td>0</td>\n",
       "    </tr>\n",
       "    <tr>\n",
       "      <th>2</th>\n",
       "      <td>8</td>\n",
       "      <td>575.00</td>\n",
       "      <td>0</td>\n",
       "      <td>0</td>\n",
       "      <td>141.211998</td>\n",
       "      <td>0</td>\n",
       "      <td>256</td>\n",
       "      <td>0</td>\n",
       "      <td>0</td>\n",
       "      <td>0</td>\n",
       "      <td>...</td>\n",
       "      <td>1</td>\n",
       "      <td>0</td>\n",
       "      <td>0</td>\n",
       "      <td>0</td>\n",
       "      <td>1</td>\n",
       "      <td>0</td>\n",
       "      <td>0</td>\n",
       "      <td>0</td>\n",
       "      <td>1</td>\n",
       "      <td>0</td>\n",
       "    </tr>\n",
       "    <tr>\n",
       "      <th>3</th>\n",
       "      <td>16</td>\n",
       "      <td>2537.45</td>\n",
       "      <td>0</td>\n",
       "      <td>1</td>\n",
       "      <td>220.534624</td>\n",
       "      <td>0</td>\n",
       "      <td>512</td>\n",
       "      <td>0</td>\n",
       "      <td>1</td>\n",
       "      <td>0</td>\n",
       "      <td>...</td>\n",
       "      <td>0</td>\n",
       "      <td>0</td>\n",
       "      <td>0</td>\n",
       "      <td>0</td>\n",
       "      <td>0</td>\n",
       "      <td>1</td>\n",
       "      <td>0</td>\n",
       "      <td>1</td>\n",
       "      <td>0</td>\n",
       "      <td>0</td>\n",
       "    </tr>\n",
       "    <tr>\n",
       "      <th>4</th>\n",
       "      <td>8</td>\n",
       "      <td>1803.60</td>\n",
       "      <td>0</td>\n",
       "      <td>1</td>\n",
       "      <td>226.983005</td>\n",
       "      <td>0</td>\n",
       "      <td>256</td>\n",
       "      <td>0</td>\n",
       "      <td>1</td>\n",
       "      <td>0</td>\n",
       "      <td>...</td>\n",
       "      <td>0</td>\n",
       "      <td>0</td>\n",
       "      <td>0</td>\n",
       "      <td>0</td>\n",
       "      <td>1</td>\n",
       "      <td>0</td>\n",
       "      <td>0</td>\n",
       "      <td>0</td>\n",
       "      <td>1</td>\n",
       "      <td>0</td>\n",
       "    </tr>\n",
       "  </tbody>\n",
       "</table>\n",
       "<p>5 rows × 34 columns</p>\n",
       "</div>"
      ],
      "text/plain": [
       "   Ram  Price_euros  Touchscreen  IPS         ppi  HDD  SSD  Company_Acer  \\\n",
       "0    8      1339.69            0    1  226.983005    0  128             0   \n",
       "1    8       898.94            0    0  127.677940    0    0             0   \n",
       "2    8       575.00            0    0  141.211998    0  256             0   \n",
       "3   16      2537.45            0    1  220.534624    0  512             0   \n",
       "4    8      1803.60            0    1  226.983005    0  256             0   \n",
       "\n",
       "   Company_Apple  Company_Asus  ...  OpSys_Other  OpSys_Windows  Cpu_name_AMD  \\\n",
       "0              1             0  ...            0              0             0   \n",
       "1              1             0  ...            0              0             0   \n",
       "2              0             0  ...            1              0             0   \n",
       "3              1             0  ...            0              0             0   \n",
       "4              1             0  ...            0              0             0   \n",
       "\n",
       "   Cpu_name_Intel Core i3  Cpu_name_Intel Core i5  Cpu_name_Intel Core i7  \\\n",
       "0                       0                       1                       0   \n",
       "1                       0                       1                       0   \n",
       "2                       0                       1                       0   \n",
       "3                       0                       0                       1   \n",
       "4                       0                       1                       0   \n",
       "\n",
       "   Cpu_name_Other  Gpu_name_AMD  Gpu_name_Intel  Gpu_name_Nvidia  \n",
       "0               0             0               1                0  \n",
       "1               0             0               1                0  \n",
       "2               0             0               1                0  \n",
       "3               0             1               0                0  \n",
       "4               0             0               1                0  \n",
       "\n",
       "[5 rows x 34 columns]"
      ]
     },
     "execution_count": 517,
     "metadata": {},
     "output_type": "execute_result"
    }
   ],
   "source": [
    "data.head(5)"
   ]
  },
  {
   "cell_type": "code",
   "execution_count": 518,
   "id": "2f4cb589-51d1-4b23-9c28-cc4010fa1884",
   "metadata": {},
   "outputs": [
    {
     "data": {
      "text/plain": [
       "(1281, 34)"
      ]
     },
     "execution_count": 518,
     "metadata": {},
     "output_type": "execute_result"
    }
   ],
   "source": [
    "data.shape"
   ]
  },
  {
   "cell_type": "code",
   "execution_count": 519,
   "id": "6833dd0e-d0f1-4bdc-ae98-341c063603a2",
   "metadata": {},
   "outputs": [
    {
     "name": "stdout",
     "output_type": "stream",
     "text": [
      "<class 'pandas.core.frame.DataFrame'>\n",
      "Int64Index: 1281 entries, 0 to 1302\n",
      "Data columns (total 34 columns):\n",
      " #   Column                       Non-Null Count  Dtype  \n",
      "---  ------                       --------------  -----  \n",
      " 0   Ram                          1281 non-null   int32  \n",
      " 1   Price_euros                  1281 non-null   float64\n",
      " 2   Touchscreen                  1281 non-null   int64  \n",
      " 3   IPS                          1281 non-null   int64  \n",
      " 4   ppi                          1281 non-null   float64\n",
      " 5   HDD                          1281 non-null   int64  \n",
      " 6   SSD                          1281 non-null   int64  \n",
      " 7   Company_Acer                 1281 non-null   uint8  \n",
      " 8   Company_Apple                1281 non-null   uint8  \n",
      " 9   Company_Asus                 1281 non-null   uint8  \n",
      " 10  Company_Dell                 1281 non-null   uint8  \n",
      " 11  Company_HP                   1281 non-null   uint8  \n",
      " 12  Company_Lenovo               1281 non-null   uint8  \n",
      " 13  Company_MSI                  1281 non-null   uint8  \n",
      " 14  Company_Other                1281 non-null   uint8  \n",
      " 15  Company_Toshiba              1281 non-null   uint8  \n",
      " 16  TypeName_2 in 1 Convertible  1281 non-null   uint8  \n",
      " 17  TypeName_Gaming              1281 non-null   uint8  \n",
      " 18  TypeName_Netbook             1281 non-null   uint8  \n",
      " 19  TypeName_Notebook            1281 non-null   uint8  \n",
      " 20  TypeName_Ultrabook           1281 non-null   uint8  \n",
      " 21  TypeName_Workstation         1281 non-null   uint8  \n",
      " 22  OpSys_Linux                  1281 non-null   uint8  \n",
      " 23  OpSys_Mac                    1281 non-null   uint8  \n",
      " 24  OpSys_Other                  1281 non-null   uint8  \n",
      " 25  OpSys_Windows                1281 non-null   uint8  \n",
      " 26  Cpu_name_AMD                 1281 non-null   uint8  \n",
      " 27  Cpu_name_Intel Core i3       1281 non-null   uint8  \n",
      " 28  Cpu_name_Intel Core i5       1281 non-null   uint8  \n",
      " 29  Cpu_name_Intel Core i7       1281 non-null   uint8  \n",
      " 30  Cpu_name_Other               1281 non-null   uint8  \n",
      " 31  Gpu_name_AMD                 1281 non-null   uint8  \n",
      " 32  Gpu_name_Intel               1281 non-null   uint8  \n",
      " 33  Gpu_name_Nvidia              1281 non-null   uint8  \n",
      "dtypes: float64(2), int32(1), int64(4), uint8(27)\n",
      "memory usage: 108.8 KB\n"
     ]
    }
   ],
   "source": [
    "data.info()"
   ]
  },
  {
   "cell_type": "code",
   "execution_count": 520,
   "id": "732e4dcb-f8b3-437a-a42f-79ba3d3b9d48",
   "metadata": {},
   "outputs": [],
   "source": [
    "#exporting processed dataset\n",
    "data.to_csv('../data/laptop_price_processed.csv', index=False)"
   ]
  },
  {
   "cell_type": "code",
   "execution_count": null,
   "id": "b56e3f33-cf6f-4ef9-b64a-364fdab4ca36",
   "metadata": {},
   "outputs": [],
   "source": []
  },
  {
   "cell_type": "code",
   "execution_count": null,
   "id": "81c7c331-7e29-40d7-818e-b076ebbf8b31",
   "metadata": {},
   "outputs": [],
   "source": []
  },
  {
   "cell_type": "code",
   "execution_count": null,
   "id": "d0f11cf0-3f89-4b8a-9ecc-c54c2336d1c8",
   "metadata": {},
   "outputs": [],
   "source": []
  },
  {
   "cell_type": "code",
   "execution_count": null,
   "id": "ab040d83-d163-49f5-b82b-7513bcecc3d6",
   "metadata": {},
   "outputs": [],
   "source": []
  }
 ],
 "metadata": {
  "kernelspec": {
   "display_name": "Python 3 (ipykernel)",
   "language": "python",
   "name": "python3"
  },
  "language_info": {
   "codemirror_mode": {
    "name": "ipython",
    "version": 3
   },
   "file_extension": ".py",
   "mimetype": "text/x-python",
   "name": "python",
   "nbconvert_exporter": "python",
   "pygments_lexer": "ipython3",
   "version": "3.9.17"
  }
 },
 "nbformat": 4,
 "nbformat_minor": 5
}
