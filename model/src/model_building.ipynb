{
 "cells": [
  {
   "cell_type": "code",
   "execution_count": 1,
   "id": "0518add5-74cc-4dc5-bd57-54a237db7852",
   "metadata": {},
   "outputs": [],
   "source": [
    "#Packages & Libraries\n",
    "import numpy as np\n",
    "import pandas as pd\n",
    "from sklearn.model_selection import train_test_split, cross_val_score\n",
    "from sklearn.linear_model import LinearRegression, Lasso, Ridge\n",
    "from sklearn.tree import DecisionTreeRegressor\n",
    "from sklearn.ensemble import RandomForestRegressor, GradientBoostingRegressor, AdaBoostRegressor\n",
    "from sklearn.svm import SVR\n",
    "from sklearn.neighbors import KNeighborsRegressor\n",
    "from sklearn.metrics import mean_absolute_error, mean_squared_error, r2_score\n",
    "from sklearn.model_selection import GridSearchCV\n",
    "from xgboost import XGBRegressor\n",
    "import matplotlib.pyplot as plt\n",
    "import pickle"
   ]
  },
  {
   "cell_type": "code",
   "execution_count": 2,
   "id": "4c4de10c-1570-4958-bc91-3cace3fa48da",
   "metadata": {
    "tags": []
   },
   "outputs": [
    {
     "name": "stdout",
     "output_type": "stream",
     "text": [
      "Name: scikit-learn\n",
      "Version: 1.3.0\n",
      "Summary: A set of python modules for machine learning and data mining\n",
      "Home-page: http://scikit-learn.org\n",
      "Author: \n",
      "Author-email: \n",
      "License: new BSD\n",
      "Location: c:\\users\\ls97k\\miniconda3\\lib\\site-packages\n",
      "Requires: joblib, numpy, scipy, threadpoolctl\n",
      "Required-by: oracle-ads\n",
      "Note: you may need to restart the kernel to use updated packages.\n"
     ]
    },
    {
     "name": "stderr",
     "output_type": "stream",
     "text": [
      "WARNING: Ignoring invalid distribution -illow (c:\\users\\ls97k\\miniconda3\\lib\\site-packages)\n",
      "WARNING: Ignoring invalid distribution -upyterlab (c:\\users\\ls97k\\miniconda3\\lib\\site-packages)\n"
     ]
    }
   ],
   "source": [
    "pip show scikit-learn "
   ]
  },
  {
   "cell_type": "code",
   "execution_count": 3,
   "id": "2efe6a30-b25c-4ac0-b024-6e88f637eb1d",
   "metadata": {},
   "outputs": [
    {
     "data": {
      "text/html": [
       "<div>\n",
       "<style scoped>\n",
       "    .dataframe tbody tr th:only-of-type {\n",
       "        vertical-align: middle;\n",
       "    }\n",
       "\n",
       "    .dataframe tbody tr th {\n",
       "        vertical-align: top;\n",
       "    }\n",
       "\n",
       "    .dataframe thead th {\n",
       "        text-align: right;\n",
       "    }\n",
       "</style>\n",
       "<table border=\"1\" class=\"dataframe\">\n",
       "  <thead>\n",
       "    <tr style=\"text-align: right;\">\n",
       "      <th></th>\n",
       "      <th>Ram</th>\n",
       "      <th>Price_euros</th>\n",
       "      <th>Touchscreen</th>\n",
       "      <th>IPS</th>\n",
       "      <th>ppi</th>\n",
       "      <th>HDD</th>\n",
       "      <th>SSD</th>\n",
       "      <th>Company_Acer</th>\n",
       "      <th>Company_Apple</th>\n",
       "      <th>Company_Asus</th>\n",
       "      <th>...</th>\n",
       "      <th>OpSys_Other</th>\n",
       "      <th>OpSys_Windows</th>\n",
       "      <th>Cpu_name_AMD</th>\n",
       "      <th>Cpu_name_Intel Core i3</th>\n",
       "      <th>Cpu_name_Intel Core i5</th>\n",
       "      <th>Cpu_name_Intel Core i7</th>\n",
       "      <th>Cpu_name_Other</th>\n",
       "      <th>Gpu_name_AMD</th>\n",
       "      <th>Gpu_name_Intel</th>\n",
       "      <th>Gpu_name_Nvidia</th>\n",
       "    </tr>\n",
       "  </thead>\n",
       "  <tbody>\n",
       "    <tr>\n",
       "      <th>0</th>\n",
       "      <td>8</td>\n",
       "      <td>1339.69</td>\n",
       "      <td>0</td>\n",
       "      <td>1</td>\n",
       "      <td>226.983005</td>\n",
       "      <td>0</td>\n",
       "      <td>128</td>\n",
       "      <td>0</td>\n",
       "      <td>1</td>\n",
       "      <td>0</td>\n",
       "      <td>...</td>\n",
       "      <td>0</td>\n",
       "      <td>0</td>\n",
       "      <td>0</td>\n",
       "      <td>0</td>\n",
       "      <td>1</td>\n",
       "      <td>0</td>\n",
       "      <td>0</td>\n",
       "      <td>0</td>\n",
       "      <td>1</td>\n",
       "      <td>0</td>\n",
       "    </tr>\n",
       "    <tr>\n",
       "      <th>1</th>\n",
       "      <td>8</td>\n",
       "      <td>898.94</td>\n",
       "      <td>0</td>\n",
       "      <td>0</td>\n",
       "      <td>127.677940</td>\n",
       "      <td>0</td>\n",
       "      <td>0</td>\n",
       "      <td>0</td>\n",
       "      <td>1</td>\n",
       "      <td>0</td>\n",
       "      <td>...</td>\n",
       "      <td>0</td>\n",
       "      <td>0</td>\n",
       "      <td>0</td>\n",
       "      <td>0</td>\n",
       "      <td>1</td>\n",
       "      <td>0</td>\n",
       "      <td>0</td>\n",
       "      <td>0</td>\n",
       "      <td>1</td>\n",
       "      <td>0</td>\n",
       "    </tr>\n",
       "    <tr>\n",
       "      <th>2</th>\n",
       "      <td>8</td>\n",
       "      <td>575.00</td>\n",
       "      <td>0</td>\n",
       "      <td>0</td>\n",
       "      <td>141.211998</td>\n",
       "      <td>0</td>\n",
       "      <td>256</td>\n",
       "      <td>0</td>\n",
       "      <td>0</td>\n",
       "      <td>0</td>\n",
       "      <td>...</td>\n",
       "      <td>1</td>\n",
       "      <td>0</td>\n",
       "      <td>0</td>\n",
       "      <td>0</td>\n",
       "      <td>1</td>\n",
       "      <td>0</td>\n",
       "      <td>0</td>\n",
       "      <td>0</td>\n",
       "      <td>1</td>\n",
       "      <td>0</td>\n",
       "    </tr>\n",
       "    <tr>\n",
       "      <th>3</th>\n",
       "      <td>16</td>\n",
       "      <td>2537.45</td>\n",
       "      <td>0</td>\n",
       "      <td>1</td>\n",
       "      <td>220.534624</td>\n",
       "      <td>0</td>\n",
       "      <td>512</td>\n",
       "      <td>0</td>\n",
       "      <td>1</td>\n",
       "      <td>0</td>\n",
       "      <td>...</td>\n",
       "      <td>0</td>\n",
       "      <td>0</td>\n",
       "      <td>0</td>\n",
       "      <td>0</td>\n",
       "      <td>0</td>\n",
       "      <td>1</td>\n",
       "      <td>0</td>\n",
       "      <td>1</td>\n",
       "      <td>0</td>\n",
       "      <td>0</td>\n",
       "    </tr>\n",
       "    <tr>\n",
       "      <th>4</th>\n",
       "      <td>8</td>\n",
       "      <td>1803.60</td>\n",
       "      <td>0</td>\n",
       "      <td>1</td>\n",
       "      <td>226.983005</td>\n",
       "      <td>0</td>\n",
       "      <td>256</td>\n",
       "      <td>0</td>\n",
       "      <td>1</td>\n",
       "      <td>0</td>\n",
       "      <td>...</td>\n",
       "      <td>0</td>\n",
       "      <td>0</td>\n",
       "      <td>0</td>\n",
       "      <td>0</td>\n",
       "      <td>1</td>\n",
       "      <td>0</td>\n",
       "      <td>0</td>\n",
       "      <td>0</td>\n",
       "      <td>1</td>\n",
       "      <td>0</td>\n",
       "    </tr>\n",
       "  </tbody>\n",
       "</table>\n",
       "<p>5 rows × 34 columns</p>\n",
       "</div>"
      ],
      "text/plain": [
       "   Ram  Price_euros  Touchscreen  IPS         ppi  HDD  SSD  Company_Acer  \\\n",
       "0    8      1339.69            0    1  226.983005    0  128             0   \n",
       "1    8       898.94            0    0  127.677940    0    0             0   \n",
       "2    8       575.00            0    0  141.211998    0  256             0   \n",
       "3   16      2537.45            0    1  220.534624    0  512             0   \n",
       "4    8      1803.60            0    1  226.983005    0  256             0   \n",
       "\n",
       "   Company_Apple  Company_Asus  ...  OpSys_Other  OpSys_Windows  Cpu_name_AMD  \\\n",
       "0              1             0  ...            0              0             0   \n",
       "1              1             0  ...            0              0             0   \n",
       "2              0             0  ...            1              0             0   \n",
       "3              1             0  ...            0              0             0   \n",
       "4              1             0  ...            0              0             0   \n",
       "\n",
       "   Cpu_name_Intel Core i3  Cpu_name_Intel Core i5  Cpu_name_Intel Core i7  \\\n",
       "0                       0                       1                       0   \n",
       "1                       0                       1                       0   \n",
       "2                       0                       1                       0   \n",
       "3                       0                       0                       1   \n",
       "4                       0                       1                       0   \n",
       "\n",
       "   Cpu_name_Other  Gpu_name_AMD  Gpu_name_Intel  Gpu_name_Nvidia  \n",
       "0               0             0               1                0  \n",
       "1               0             0               1                0  \n",
       "2               0             0               1                0  \n",
       "3               0             1               0                0  \n",
       "4               0             0               1                0  \n",
       "\n",
       "[5 rows x 34 columns]"
      ]
     },
     "execution_count": 3,
     "metadata": {},
     "output_type": "execute_result"
    }
   ],
   "source": [
    "#Importing data\n",
    "data = pd.read_csv('../data/laptop_price_processed.csv')\n",
    "data.head()"
   ]
  },
  {
   "cell_type": "code",
   "execution_count": 4,
   "id": "6c7647c3-27f7-4faa-b465-0a9062cb18e4",
   "metadata": {
    "tags": []
   },
   "outputs": [
    {
     "data": {
      "text/html": [
       "<div>\n",
       "<style scoped>\n",
       "    .dataframe tbody tr th:only-of-type {\n",
       "        vertical-align: middle;\n",
       "    }\n",
       "\n",
       "    .dataframe tbody tr th {\n",
       "        vertical-align: top;\n",
       "    }\n",
       "\n",
       "    .dataframe thead th {\n",
       "        text-align: right;\n",
       "    }\n",
       "</style>\n",
       "<table border=\"1\" class=\"dataframe\">\n",
       "  <thead>\n",
       "    <tr style=\"text-align: right;\">\n",
       "      <th></th>\n",
       "      <th>Ram</th>\n",
       "      <th>Price_euros</th>\n",
       "      <th>Touchscreen</th>\n",
       "      <th>IPS</th>\n",
       "      <th>ppi</th>\n",
       "      <th>HDD</th>\n",
       "      <th>SSD</th>\n",
       "      <th>Company_Acer</th>\n",
       "      <th>Company_Apple</th>\n",
       "      <th>Company_Asus</th>\n",
       "      <th>...</th>\n",
       "      <th>OpSys_Other</th>\n",
       "      <th>OpSys_Windows</th>\n",
       "      <th>Cpu_name_AMD</th>\n",
       "      <th>Cpu_name_Intel Core i3</th>\n",
       "      <th>Cpu_name_Intel Core i5</th>\n",
       "      <th>Cpu_name_Intel Core i7</th>\n",
       "      <th>Cpu_name_Other</th>\n",
       "      <th>Gpu_name_AMD</th>\n",
       "      <th>Gpu_name_Intel</th>\n",
       "      <th>Gpu_name_Nvidia</th>\n",
       "    </tr>\n",
       "  </thead>\n",
       "  <tbody>\n",
       "    <tr>\n",
       "      <th>count</th>\n",
       "      <td>1281.000000</td>\n",
       "      <td>1281.000000</td>\n",
       "      <td>1281.000000</td>\n",
       "      <td>1281.000000</td>\n",
       "      <td>1281.000000</td>\n",
       "      <td>1281.000000</td>\n",
       "      <td>1281.000000</td>\n",
       "      <td>1281.000000</td>\n",
       "      <td>1281.000000</td>\n",
       "      <td>1281.000000</td>\n",
       "      <td>...</td>\n",
       "      <td>1281.000000</td>\n",
       "      <td>1281.000000</td>\n",
       "      <td>1281.000000</td>\n",
       "      <td>1281.000000</td>\n",
       "      <td>1281.000000</td>\n",
       "      <td>1281.000000</td>\n",
       "      <td>1281.000000</td>\n",
       "      <td>1281.000000</td>\n",
       "      <td>1281.000000</td>\n",
       "      <td>1281.000000</td>\n",
       "    </tr>\n",
       "    <tr>\n",
       "      <th>mean</th>\n",
       "      <td>8.429352</td>\n",
       "      <td>1128.837783</td>\n",
       "      <td>0.146760</td>\n",
       "      <td>0.278689</td>\n",
       "      <td>146.448451</td>\n",
       "      <td>420.765027</td>\n",
       "      <td>184.355972</td>\n",
       "      <td>0.078064</td>\n",
       "      <td>0.016393</td>\n",
       "      <td>0.120999</td>\n",
       "      <td>...</td>\n",
       "      <td>0.070258</td>\n",
       "      <td>0.864949</td>\n",
       "      <td>0.047619</td>\n",
       "      <td>0.105386</td>\n",
       "      <td>0.326308</td>\n",
       "      <td>0.409055</td>\n",
       "      <td>0.111632</td>\n",
       "      <td>0.139735</td>\n",
       "      <td>0.548790</td>\n",
       "      <td>0.311475</td>\n",
       "    </tr>\n",
       "    <tr>\n",
       "      <th>std</th>\n",
       "      <td>5.099621</td>\n",
       "      <td>696.945545</td>\n",
       "      <td>0.354005</td>\n",
       "      <td>0.448529</td>\n",
       "      <td>42.935590</td>\n",
       "      <td>517.436326</td>\n",
       "      <td>185.601517</td>\n",
       "      <td>0.268377</td>\n",
       "      <td>0.127033</td>\n",
       "      <td>0.326254</td>\n",
       "      <td>...</td>\n",
       "      <td>0.255680</td>\n",
       "      <td>0.341911</td>\n",
       "      <td>0.213042</td>\n",
       "      <td>0.307171</td>\n",
       "      <td>0.469044</td>\n",
       "      <td>0.491852</td>\n",
       "      <td>0.315036</td>\n",
       "      <td>0.346847</td>\n",
       "      <td>0.497808</td>\n",
       "      <td>0.463277</td>\n",
       "    </tr>\n",
       "    <tr>\n",
       "      <th>min</th>\n",
       "      <td>2.000000</td>\n",
       "      <td>191.900000</td>\n",
       "      <td>0.000000</td>\n",
       "      <td>0.000000</td>\n",
       "      <td>90.583402</td>\n",
       "      <td>0.000000</td>\n",
       "      <td>0.000000</td>\n",
       "      <td>0.000000</td>\n",
       "      <td>0.000000</td>\n",
       "      <td>0.000000</td>\n",
       "      <td>...</td>\n",
       "      <td>0.000000</td>\n",
       "      <td>0.000000</td>\n",
       "      <td>0.000000</td>\n",
       "      <td>0.000000</td>\n",
       "      <td>0.000000</td>\n",
       "      <td>0.000000</td>\n",
       "      <td>0.000000</td>\n",
       "      <td>0.000000</td>\n",
       "      <td>0.000000</td>\n",
       "      <td>0.000000</td>\n",
       "    </tr>\n",
       "    <tr>\n",
       "      <th>25%</th>\n",
       "      <td>4.000000</td>\n",
       "      <td>609.000000</td>\n",
       "      <td>0.000000</td>\n",
       "      <td>0.000000</td>\n",
       "      <td>127.335675</td>\n",
       "      <td>0.000000</td>\n",
       "      <td>0.000000</td>\n",
       "      <td>0.000000</td>\n",
       "      <td>0.000000</td>\n",
       "      <td>0.000000</td>\n",
       "      <td>...</td>\n",
       "      <td>0.000000</td>\n",
       "      <td>1.000000</td>\n",
       "      <td>0.000000</td>\n",
       "      <td>0.000000</td>\n",
       "      <td>0.000000</td>\n",
       "      <td>0.000000</td>\n",
       "      <td>0.000000</td>\n",
       "      <td>0.000000</td>\n",
       "      <td>0.000000</td>\n",
       "      <td>0.000000</td>\n",
       "    </tr>\n",
       "    <tr>\n",
       "      <th>50%</th>\n",
       "      <td>8.000000</td>\n",
       "      <td>979.000000</td>\n",
       "      <td>0.000000</td>\n",
       "      <td>0.000000</td>\n",
       "      <td>141.211998</td>\n",
       "      <td>0.000000</td>\n",
       "      <td>256.000000</td>\n",
       "      <td>0.000000</td>\n",
       "      <td>0.000000</td>\n",
       "      <td>0.000000</td>\n",
       "      <td>...</td>\n",
       "      <td>0.000000</td>\n",
       "      <td>1.000000</td>\n",
       "      <td>0.000000</td>\n",
       "      <td>0.000000</td>\n",
       "      <td>0.000000</td>\n",
       "      <td>0.000000</td>\n",
       "      <td>0.000000</td>\n",
       "      <td>0.000000</td>\n",
       "      <td>1.000000</td>\n",
       "      <td>0.000000</td>\n",
       "    </tr>\n",
       "    <tr>\n",
       "      <th>75%</th>\n",
       "      <td>8.000000</td>\n",
       "      <td>1490.000000</td>\n",
       "      <td>0.000000</td>\n",
       "      <td>1.000000</td>\n",
       "      <td>157.350512</td>\n",
       "      <td>1000.000000</td>\n",
       "      <td>256.000000</td>\n",
       "      <td>0.000000</td>\n",
       "      <td>0.000000</td>\n",
       "      <td>0.000000</td>\n",
       "      <td>...</td>\n",
       "      <td>0.000000</td>\n",
       "      <td>1.000000</td>\n",
       "      <td>0.000000</td>\n",
       "      <td>0.000000</td>\n",
       "      <td>1.000000</td>\n",
       "      <td>1.000000</td>\n",
       "      <td>0.000000</td>\n",
       "      <td>0.000000</td>\n",
       "      <td>1.000000</td>\n",
       "      <td>1.000000</td>\n",
       "    </tr>\n",
       "    <tr>\n",
       "      <th>max</th>\n",
       "      <td>64.000000</td>\n",
       "      <td>6099.000000</td>\n",
       "      <td>1.000000</td>\n",
       "      <td>1.000000</td>\n",
       "      <td>352.465147</td>\n",
       "      <td>2000.000000</td>\n",
       "      <td>1000.000000</td>\n",
       "      <td>1.000000</td>\n",
       "      <td>1.000000</td>\n",
       "      <td>1.000000</td>\n",
       "      <td>...</td>\n",
       "      <td>1.000000</td>\n",
       "      <td>1.000000</td>\n",
       "      <td>1.000000</td>\n",
       "      <td>1.000000</td>\n",
       "      <td>1.000000</td>\n",
       "      <td>1.000000</td>\n",
       "      <td>1.000000</td>\n",
       "      <td>1.000000</td>\n",
       "      <td>1.000000</td>\n",
       "      <td>1.000000</td>\n",
       "    </tr>\n",
       "  </tbody>\n",
       "</table>\n",
       "<p>8 rows × 34 columns</p>\n",
       "</div>"
      ],
      "text/plain": [
       "               Ram  Price_euros  Touchscreen          IPS          ppi  \\\n",
       "count  1281.000000  1281.000000  1281.000000  1281.000000  1281.000000   \n",
       "mean      8.429352  1128.837783     0.146760     0.278689   146.448451   \n",
       "std       5.099621   696.945545     0.354005     0.448529    42.935590   \n",
       "min       2.000000   191.900000     0.000000     0.000000    90.583402   \n",
       "25%       4.000000   609.000000     0.000000     0.000000   127.335675   \n",
       "50%       8.000000   979.000000     0.000000     0.000000   141.211998   \n",
       "75%       8.000000  1490.000000     0.000000     1.000000   157.350512   \n",
       "max      64.000000  6099.000000     1.000000     1.000000   352.465147   \n",
       "\n",
       "               HDD          SSD  Company_Acer  Company_Apple  Company_Asus  \\\n",
       "count  1281.000000  1281.000000   1281.000000    1281.000000   1281.000000   \n",
       "mean    420.765027   184.355972      0.078064       0.016393      0.120999   \n",
       "std     517.436326   185.601517      0.268377       0.127033      0.326254   \n",
       "min       0.000000     0.000000      0.000000       0.000000      0.000000   \n",
       "25%       0.000000     0.000000      0.000000       0.000000      0.000000   \n",
       "50%       0.000000   256.000000      0.000000       0.000000      0.000000   \n",
       "75%    1000.000000   256.000000      0.000000       0.000000      0.000000   \n",
       "max    2000.000000  1000.000000      1.000000       1.000000      1.000000   \n",
       "\n",
       "       ...  OpSys_Other  OpSys_Windows  Cpu_name_AMD  Cpu_name_Intel Core i3  \\\n",
       "count  ...  1281.000000    1281.000000   1281.000000             1281.000000   \n",
       "mean   ...     0.070258       0.864949      0.047619                0.105386   \n",
       "std    ...     0.255680       0.341911      0.213042                0.307171   \n",
       "min    ...     0.000000       0.000000      0.000000                0.000000   \n",
       "25%    ...     0.000000       1.000000      0.000000                0.000000   \n",
       "50%    ...     0.000000       1.000000      0.000000                0.000000   \n",
       "75%    ...     0.000000       1.000000      0.000000                0.000000   \n",
       "max    ...     1.000000       1.000000      1.000000                1.000000   \n",
       "\n",
       "       Cpu_name_Intel Core i5  Cpu_name_Intel Core i7  Cpu_name_Other  \\\n",
       "count             1281.000000             1281.000000     1281.000000   \n",
       "mean                 0.326308                0.409055        0.111632   \n",
       "std                  0.469044                0.491852        0.315036   \n",
       "min                  0.000000                0.000000        0.000000   \n",
       "25%                  0.000000                0.000000        0.000000   \n",
       "50%                  0.000000                0.000000        0.000000   \n",
       "75%                  1.000000                1.000000        0.000000   \n",
       "max                  1.000000                1.000000        1.000000   \n",
       "\n",
       "       Gpu_name_AMD  Gpu_name_Intel  Gpu_name_Nvidia  \n",
       "count   1281.000000     1281.000000      1281.000000  \n",
       "mean       0.139735        0.548790         0.311475  \n",
       "std        0.346847        0.497808         0.463277  \n",
       "min        0.000000        0.000000         0.000000  \n",
       "25%        0.000000        0.000000         0.000000  \n",
       "50%        0.000000        1.000000         0.000000  \n",
       "75%        0.000000        1.000000         1.000000  \n",
       "max        1.000000        1.000000         1.000000  \n",
       "\n",
       "[8 rows x 34 columns]"
      ]
     },
     "execution_count": 4,
     "metadata": {},
     "output_type": "execute_result"
    }
   ],
   "source": [
    "data.describe()"
   ]
  },
  {
   "cell_type": "code",
   "execution_count": 5,
   "id": "9ca947e7-22d8-4d04-9c10-8e1a12018a34",
   "metadata": {},
   "outputs": [],
   "source": [
    "#X y\n",
    "X = data.drop(['Price_euros', 'ppi'], axis = 1)\n",
    "y = data['Price_euros']"
   ]
  },
  {
   "cell_type": "code",
   "execution_count": 6,
   "id": "ee661a0c-8052-4264-b434-9935536b8402",
   "metadata": {},
   "outputs": [],
   "source": [
    "# Train, Test split\n",
    "X_train, X_test, y_train, y_test = train_test_split(X, y, test_size= .2, random_state=42 , shuffle=False)"
   ]
  },
  {
   "cell_type": "code",
   "execution_count": 7,
   "id": "90a906ca-8f06-49eb-baec-8d2d695cb2a1",
   "metadata": {},
   "outputs": [
    {
     "name": "stdout",
     "output_type": "stream",
     "text": [
      "Train set shape :  (1024, 32)\n",
      "Test set shape  :  (257, 32)\n"
     ]
    }
   ],
   "source": [
    "print(\"Train set shape : \", X_train.shape)\n",
    "print(\"Test set shape  : \", X_test.shape)"
   ]
  },
  {
   "cell_type": "markdown",
   "id": "fcd1b6e3-d50a-4767-bde2-242228adc55d",
   "metadata": {},
   "source": [
    "## 1. Model Building"
   ]
  },
  {
   "cell_type": "code",
   "execution_count": 8,
   "id": "42376742-d924-4bcf-8c8d-4739355d28cc",
   "metadata": {
    "tags": []
   },
   "outputs": [],
   "source": [
    "def model(model_name, model):\n",
    "    model.fit(X_train, y_train)\n",
    "    acc = model.score(X_test, y_test)\n",
    "    y_pred = model.predict(X_test)\n",
    "    print(model_name+\" ---> \")\n",
    "    print('Model Accuracy      : ',acc)\n",
    "    print('R-squared           : ',r2_score(y_test, y_pred))\n",
    "    print('Mean Squared Error  : ',mean_squared_error(y_test, y_pred))\n",
    "    print('Mean Absolute Error : ', mean_absolute_error(y_test, y_pred))"
   ]
  },
  {
   "cell_type": "markdown",
   "id": "8f3822f3-9cd5-4c88-9f30-8f32763dc787",
   "metadata": {},
   "source": [
    "### 1.1 Linear Regression"
   ]
  },
  {
   "cell_type": "code",
   "execution_count": 9,
   "id": "ebd25042-573f-49ce-8ed7-834d73481b1e",
   "metadata": {},
   "outputs": [
    {
     "name": "stdout",
     "output_type": "stream",
     "text": [
      "Linear Regression ---> \n",
      "Model Accuracy      :  0.7134423682918831\n",
      "R-squared           :  0.7134423682918831\n",
      "Mean Squared Error  :  142169.42157664974\n",
      "Mean Absolute Error :  261.7130196195381\n"
     ]
    }
   ],
   "source": [
    "lr = LinearRegression()\n",
    "model('Linear Regression',lr)"
   ]
  },
  {
   "cell_type": "markdown",
   "id": "653feb1d-5958-4ec5-9184-71cb1a5d8052",
   "metadata": {},
   "source": [
    "### 1.2 Lasso Regression"
   ]
  },
  {
   "cell_type": "code",
   "execution_count": 10,
   "id": "31b5addf-e49a-42de-802a-869efe45abcd",
   "metadata": {
    "tags": []
   },
   "outputs": [
    {
     "name": "stdout",
     "output_type": "stream",
     "text": [
      "Lasso Regression ---> \n",
      "Model Accuracy      :  0.7076088874644089\n",
      "R-squared           :  0.7076088874644089\n",
      "Mean Squared Error  :  145063.5779460926\n",
      "Mean Absolute Error :  262.9752456814381\n"
     ]
    }
   ],
   "source": [
    "lasso = Lasso()\n",
    "model('Lasso Regression',lasso)"
   ]
  },
  {
   "cell_type": "markdown",
   "id": "fe1559b3-90b5-4557-b40d-a1c1c38c4f9f",
   "metadata": {},
   "source": [
    "### 1.3 Ridge Regression "
   ]
  },
  {
   "cell_type": "code",
   "execution_count": 11,
   "id": "6a58dbed-4784-4fc8-a79d-18c823c225a3",
   "metadata": {
    "tags": []
   },
   "outputs": [
    {
     "name": "stdout",
     "output_type": "stream",
     "text": [
      "Ridge Regression ---> \n",
      "Model Accuracy      :  0.7120447996274737\n",
      "R-squared           :  0.7120447996274737\n",
      "Mean Squared Error  :  142862.79528806818\n",
      "Mean Absolute Error :  261.87271605969386\n"
     ]
    }
   ],
   "source": [
    "ridge = Ridge()\n",
    "model('Ridge Regression',ridge)"
   ]
  },
  {
   "cell_type": "markdown",
   "id": "00f084b4-660c-4060-a9d6-7c36e6d60533",
   "metadata": {},
   "source": [
    "### 1.4 Decision Tree Regressor"
   ]
  },
  {
   "cell_type": "code",
   "execution_count": 12,
   "id": "34998d71-7769-419b-a088-f552250f33fe",
   "metadata": {
    "tags": []
   },
   "outputs": [
    {
     "name": "stdout",
     "output_type": "stream",
     "text": [
      " Decision Tree Regressor ---> \n",
      "Model Accuracy      :  0.6140890838856317\n",
      "R-squared           :  0.6140890838856317\n",
      "Mean Squared Error  :  191461.42225232764\n",
      "Mean Absolute Error :  280.1892042186089\n"
     ]
    }
   ],
   "source": [
    "dtr = DecisionTreeRegressor()\n",
    "model (' Decision Tree Regressor', dtr)"
   ]
  },
  {
   "cell_type": "markdown",
   "id": "1c40f69f-4aaf-4087-a549-c6b86c03ea24",
   "metadata": {},
   "source": [
    "### 1.5 Random Forest Regressor"
   ]
  },
  {
   "cell_type": "code",
   "execution_count": 13,
   "id": "dfcac847-879b-4675-ac03-38a3f6f8c446",
   "metadata": {
    "tags": []
   },
   "outputs": [
    {
     "name": "stdout",
     "output_type": "stream",
     "text": [
      " random Forest Regressor ---> \n",
      "Model Accuracy      :  0.7009711336000373\n",
      "R-squared           :  0.7009711336000373\n",
      "Mean Squared Error  :  148356.75712907486\n",
      "Mean Absolute Error :  255.34720683022522\n"
     ]
    }
   ],
   "source": [
    "rfr = RandomForestRegressor()\n",
    "model (' random Forest Regressor', rfr)"
   ]
  },
  {
   "cell_type": "markdown",
   "id": "710380e1-b771-4c9c-ab43-3871504c4963",
   "metadata": {},
   "source": [
    "### 1.6 KNN "
   ]
  },
  {
   "cell_type": "code",
   "execution_count": 14,
   "id": "219f4b1a-9249-4920-a2e8-672f7abb3273",
   "metadata": {
    "tags": []
   },
   "outputs": [],
   "source": [
    "# Find optimal number of K\n",
    "k_range = range(1, 15)\n",
    "cv_scores = []\n",
    "\n",
    "for k in k_range:\n",
    "    model_temp = KNeighborsRegressor(n_neighbors=k)\n",
    "    scores = cross_val_score(model_temp, X, y, cv=5, scoring='neg_mean_squared_error')  \n",
    "    cv_scores.append(scores.mean())"
   ]
  },
  {
   "cell_type": "code",
   "execution_count": 15,
   "id": "d6797b8b-060e-4ef1-9c08-46179264c750",
   "metadata": {
    "tags": []
   },
   "outputs": [
    {
     "data": {
      "image/png": "[encoded data removed]",
      "text/plain": [
       "<Figure size 600x400 with 1 Axes>"
      ]
     },
     "metadata": {},
     "output_type": "display_data"
    }
   ],
   "source": [
    "plt.figure(figsize=(6, 4))\n",
    "plt.plot(k_range, [-x for x in cv_scores], marker='o', linestyle='-')\n",
    "plt.xlabel('Number of Neighbors (K)')\n",
    "plt.ylabel('Mean Squared Error')\n",
    "plt.title('MSE vs. K Value')\n",
    "plt.show()"
   ]
  },
  {
   "cell_type": "markdown",
   "id": "c981d086-50e7-4150-832e-796aff9b8443",
   "metadata": {},
   "source": [
    "Choose the K vale with the smallest mean square error. \n",
    "So, the optimal K value is 3"
   ]
  },
  {
   "cell_type": "code",
   "execution_count": 16,
   "id": "ed7351b3-d1d6-4d0f-9375-08c2fcc22c11",
   "metadata": {
    "tags": []
   },
   "outputs": [
    {
     "name": "stdout",
     "output_type": "stream",
     "text": [
      "KNN ---> \n",
      "Model Accuracy      :  0.6286190918463406\n",
      "R-squared           :  0.6286190918463406\n",
      "Mean Squared Error  :  184252.67050851707\n",
      "Mean Absolute Error :  282.81431906614785\n"
     ]
    }
   ],
   "source": [
    "knn = KNeighborsRegressor(n_neighbors=3)\n",
    "model('KNN', knn)"
   ]
  },
  {
   "cell_type": "markdown",
   "id": "284c2592-47b6-4a48-8433-b823327e9c37",
   "metadata": {},
   "source": [
    "### 1.7 Support Vector Machine"
   ]
  },
  {
   "cell_type": "code",
   "execution_count": 17,
   "id": "fffb9bd1-bbd4-4ad5-89dc-3f4493bb2b12",
   "metadata": {
    "tags": []
   },
   "outputs": [
    {
     "name": "stdout",
     "output_type": "stream",
     "text": [
      "SVR ---> \n",
      "Model Accuracy      :  0.017933930582245794\n",
      "R-squared           :  0.017933930582245794\n",
      "Mean Squared Error  :  487231.0125084737\n",
      "Mean Absolute Error :  524.9722480853006\n"
     ]
    }
   ],
   "source": [
    "svr = SVR()\n",
    "model('SVR', svr)"
   ]
  },
  {
   "cell_type": "markdown",
   "id": "fb6de6e4-632a-41a0-b7b8-a77fc97b799f",
   "metadata": {},
   "source": [
    "### 1.8 AdaBoost"
   ]
  },
  {
   "cell_type": "code",
   "execution_count": 18,
   "id": "69e925bb-eed4-4f95-af95-db0b4afd91ec",
   "metadata": {
    "tags": []
   },
   "outputs": [
    {
     "name": "stdout",
     "output_type": "stream",
     "text": [
      "AdaBoost ---> \n",
      "Model Accuracy      :  0.5103383399150414\n",
      "R-squared           :  0.5103383399150414\n",
      "Mean Squared Error  :  242935.1281540787\n",
      "Mean Absolute Error :  409.68284136415895\n"
     ]
    }
   ],
   "source": [
    "ada_boost = AdaBoostRegressor()\n",
    "model('AdaBoost', ada_boost)"
   ]
  },
  {
   "cell_type": "markdown",
   "id": "02212ac6-f679-411d-9e67-2f0196917eb2",
   "metadata": {},
   "source": [
    "### 1.9 Gradient Boosting"
   ]
  },
  {
   "cell_type": "code",
   "execution_count": 19,
   "id": "ff4e6ebd-9d66-46c9-b854-293af3908303",
   "metadata": {},
   "outputs": [
    {
     "name": "stdout",
     "output_type": "stream",
     "text": [
      "GradientBoosting ---> \n",
      "Model Accuracy      :  0.7436193226546504\n",
      "R-squared           :  0.7436193226546504\n",
      "Mean Squared Error  :  127197.77304254426\n",
      "Mean Absolute Error :  237.31818145154622\n"
     ]
    }
   ],
   "source": [
    "gra_boost = GradientBoostingRegressor()\n",
    "model('GradientBoosting', gra_boost)"
   ]
  },
  {
   "cell_type": "markdown",
   "id": "ac4be9d4-8bee-4ada-9319-3f955d1fc488",
   "metadata": {},
   "source": [
    "### 1.10 XGBoosting"
   ]
  },
  {
   "cell_type": "code",
   "execution_count": 20,
   "id": "4759d9c3-6f5a-49b7-9ffe-694879830538",
   "metadata": {},
   "outputs": [
    {
     "name": "stdout",
     "output_type": "stream",
     "text": [
      "XGBoosting ---> \n",
      "Model Accuracy      :  0.696912395933796\n",
      "R-squared           :  0.696912395933796\n",
      "Mean Squared Error  :  150370.4127518595\n",
      "Mean Absolute Error :  247.51343562619695\n"
     ]
    }
   ],
   "source": [
    "xgb_reg = XGBRegressor()\n",
    "model('XGBoosting', xgb_reg)"
   ]
  },
  {
   "cell_type": "markdown",
   "id": "9215c605-9033-4ad9-8ab7-bd29aa4115bf",
   "metadata": {},
   "source": [
    "## 2. Finding Best Model"
   ]
  },
  {
   "cell_type": "code",
   "execution_count": 21,
   "id": "1b1d395a-659c-49a0-94c0-f33b17cd3e92",
   "metadata": {
    "tags": []
   },
   "outputs": [],
   "source": [
    "models = {\n",
    "    \"1. Logistic Regression\": lr,\n",
    "    \"2. Lasso Regression\": lasso,\n",
    "    \"3. Ridge Regression\": ridge,\n",
    "    \"4. Decision Tree Regressor\": dtr,\n",
    "    \"5. Random Forest Regressor\": rfr,\n",
    "    \"6. KNN\": knn,\n",
    "    \"7. Support Vector Machine\": svr,\n",
    "    \"8. AdaBoost\": ada_boost,\n",
    "    \"9. Gradient Boosting\": gra_boost,\n",
    "    \"10. XGBoosting\": xgb_reg\n",
    "}"
   ]
  },
  {
   "cell_type": "code",
   "execution_count": 22,
   "id": "071923f1-3ac2-43b0-82ea-e336533e8788",
   "metadata": {
    "tags": []
   },
   "outputs": [
    {
     "name": "stdout",
     "output_type": "stream",
     "text": [
      "1. Logistic Regression\n",
      " - Mean Accuracy: 0.7022, \n",
      " - Std: 0.0819\n",
      "\n",
      "2. Lasso Regression\n",
      " - Mean Accuracy: 0.7039, \n",
      " - Std: 0.0792\n",
      "\n",
      "3. Ridge Regression\n",
      " - Mean Accuracy: 0.7031, \n",
      " - Std: 0.0810\n",
      "\n",
      "4. Decision Tree Regressor\n",
      " - Mean Accuracy: 0.6230, \n",
      " - Std: 0.0943\n",
      "\n",
      "5. Random Forest Regressor\n",
      " - Mean Accuracy: 0.7271, \n",
      " - Std: 0.0678\n",
      "\n",
      "6. KNN\n",
      " - Mean Accuracy: 0.6489, \n",
      " - Std: 0.0918\n",
      "\n",
      "7. Support Vector Machine\n",
      " - Mean Accuracy: -0.0361, \n",
      " - Std: 0.0810\n",
      "\n",
      "8. AdaBoost\n",
      " - Mean Accuracy: 0.5340, \n",
      " - Std: 0.1345\n",
      "\n",
      "9. Gradient Boosting\n",
      " - Mean Accuracy: 0.7233, \n",
      " - Std: 0.0751\n",
      "\n",
      "10. XGBoosting\n",
      " - Mean Accuracy: 0.6924, \n",
      " - Std: 0.0508\n",
      "\n"
     ]
    }
   ],
   "source": [
    "cv_results = {}\n",
    "\n",
    "for model_name, model in models.items():\n",
    "    scores = cross_val_score(model, X_train, y_train, cv=5) # 'cv=5' denotes 5-fold cross-validation.\n",
    "    cv_results[model_name] = scores\n",
    "\n",
    "for model_name, scores in cv_results.items():\n",
    "    print(f\"{model_name}\\n - Mean Accuracy: {np.mean(scores):.4f}, \\n - Std: {np.std(scores):.4f}\\n\")\n"
   ]
  },
  {
   "cell_type": "markdown",
   "id": "af45c257-da17-4db9-bace-e70f75b94046",
   "metadata": {},
   "source": [
    "We select Gradient Boosting based on the mean accuracy. "
   ]
  },
  {
   "cell_type": "markdown",
   "id": "17bed99e-c657-4789-80c6-217cf357fa91",
   "metadata": {},
   "source": [
    "## Hyperparameter Tuning"
   ]
  },
  {
   "cell_type": "code",
   "execution_count": 23,
   "id": "4237de3a-7ccb-46de-ad31-27c0ddca2ec9",
   "metadata": {
    "tags": []
   },
   "outputs": [
    {
     "data": {
      "text/html": [
       "<style>#sk-container-id-1 {color: black;}#sk-container-id-1 pre{padding: 0;}#sk-container-id-1 div.sk-toggleable {background-color: white;}#sk-container-id-1 label.sk-toggleable__label {cursor: pointer;display: block;width: 100%;margin-bottom: 0;padding: 0.3em;box-sizing: border-box;text-align: center;}#sk-container-id-1 label.sk-toggleable__label-arrow:before {content: \"▸\";float: left;margin-right: 0.25em;color: #696969;}#sk-container-id-1 label.sk-toggleable__label-arrow:hover:before {color: black;}#sk-container-id-1 div.sk-estimator:hover label.sk-toggleable__label-arrow:before {color: black;}#sk-container-id-1 div.sk-toggleable__content {max-height: 0;max-width: 0;overflow: hidden;text-align: left;background-color: #f0f8ff;}#sk-container-id-1 div.sk-toggleable__content pre {margin: 0.2em;color: black;border-radius: 0.25em;background-color: #f0f8ff;}#sk-container-id-1 input.sk-toggleable__control:checked~div.sk-toggleable__content {max-height: 200px;max-width: 100%;overflow: auto;}#sk-container-id-1 input.sk-toggleable__control:checked~label.sk-toggleable__label-arrow:before {content: \"▾\";}#sk-container-id-1 div.sk-estimator input.sk-toggleable__control:checked~label.sk-toggleable__label {background-color: #d4ebff;}#sk-container-id-1 div.sk-label input.sk-toggleable__control:checked~label.sk-toggleable__label {background-color: #d4ebff;}#sk-container-id-1 input.sk-hidden--visually {border: 0;clip: rect(1px 1px 1px 1px);clip: rect(1px, 1px, 1px, 1px);height: 1px;margin: -1px;overflow: hidden;padding: 0;position: absolute;width: 1px;}#sk-container-id-1 div.sk-estimator {font-family: monospace;background-color: #f0f8ff;border: 1px dotted black;border-radius: 0.25em;box-sizing: border-box;margin-bottom: 0.5em;}#sk-container-id-1 div.sk-estimator:hover {background-color: #d4ebff;}#sk-container-id-1 div.sk-parallel-item::after {content: \"\";width: 100%;border-bottom: 1px solid gray;flex-grow: 1;}#sk-container-id-1 div.sk-label:hover label.sk-toggleable__label {background-color: #d4ebff;}#sk-container-id-1 div.sk-serial::before {content: \"\";position: absolute;border-left: 1px solid gray;box-sizing: border-box;top: 0;bottom: 0;left: 50%;z-index: 0;}#sk-container-id-1 div.sk-serial {display: flex;flex-direction: column;align-items: center;background-color: white;padding-right: 0.2em;padding-left: 0.2em;position: relative;}#sk-container-id-1 div.sk-item {position: relative;z-index: 1;}#sk-container-id-1 div.sk-parallel {display: flex;align-items: stretch;justify-content: center;background-color: white;position: relative;}#sk-container-id-1 div.sk-item::before, #sk-container-id-1 div.sk-parallel-item::before {content: \"\";position: absolute;border-left: 1px solid gray;box-sizing: border-box;top: 0;bottom: 0;left: 50%;z-index: -1;}#sk-container-id-1 div.sk-parallel-item {display: flex;flex-direction: column;z-index: 1;position: relative;background-color: white;}#sk-container-id-1 div.sk-parallel-item:first-child::after {align-self: flex-end;width: 50%;}#sk-container-id-1 div.sk-parallel-item:last-child::after {align-self: flex-start;width: 50%;}#sk-container-id-1 div.sk-parallel-item:only-child::after {width: 0;}#sk-container-id-1 div.sk-dashed-wrapped {border: 1px dashed gray;margin: 0 0.4em 0.5em 0.4em;box-sizing: border-box;padding-bottom: 0.4em;background-color: white;}#sk-container-id-1 div.sk-label label {font-family: monospace;font-weight: bold;display: inline-block;line-height: 1.2em;}#sk-container-id-1 div.sk-label-container {text-align: center;}#sk-container-id-1 div.sk-container {/* jupyter's `normalize.less` sets `[hidden] { display: none; }` but bootstrap.min.css set `[hidden] { display: none !important; }` so we also need the `!important` here to be able to override the default hidden behavior on the sphinx rendered scikit-learn.org. See: https://github.com/scikit-learn/scikit-learn/issues/21755 */display: inline-block !important;position: relative;}#sk-container-id-1 div.sk-text-repr-fallback {display: none;}</style><div id=\"sk-container-id-1\" class=\"sk-top-container\"><div class=\"sk-text-repr-fallback\"><pre>GradientBoostingRegressor(learning_rate=0.05, max_features=0.3,\n",
       "                          n_estimators=500)</pre><b>In a Jupyter environment, please rerun this cell to show the HTML representation or trust the notebook. <br />On GitHub, the HTML representation is unable to render, please try loading this page with nbviewer.org.</b></div><div class=\"sk-container\" hidden><div class=\"sk-item\"><div class=\"sk-estimator sk-toggleable\"><input class=\"sk-toggleable__control sk-hidden--visually\" id=\"sk-estimator-id-1\" type=\"checkbox\" checked><label for=\"sk-estimator-id-1\" class=\"sk-toggleable__label sk-toggleable__label-arrow\">GradientBoostingRegressor</label><div class=\"sk-toggleable__content\"><pre>GradientBoostingRegressor(learning_rate=0.05, max_features=0.3,\n",
       "                          n_estimators=500)</pre></div></div></div></div></div>"
      ],
      "text/plain": [
       "GradientBoostingRegressor(learning_rate=0.05, max_features=0.3,\n",
       "                          n_estimators=500)"
      ]
     },
     "execution_count": 23,
     "metadata": {},
     "output_type": "execute_result"
    }
   ],
   "source": [
    "param = {\n",
    "    'n_estimators': [100, 200, 500],\n",
    "    'learning_rate': [0.1, 0.05, 0.01],\n",
    "    'max_features': [0.8, 0.5, 0.3]\n",
    "}\n",
    "\n",
    "grid_obj = GridSearchCV(estimator=gra_boost, param_grid=param)\n",
    "grid_fit = grid_obj.fit(X_train, y_train)\n",
    "best_model = grid_fit.best_estimator_\n",
    "best_model"
   ]
  },
  {
   "cell_type": "code",
   "execution_count": 24,
   "id": "f0eb5a0a-0150-4c74-a995-1d92cc6d6c11",
   "metadata": {
    "tags": []
   },
   "outputs": [
    {
     "data": {
      "text/plain": [
       "0.7446537824376669"
      ]
     },
     "execution_count": 24,
     "metadata": {},
     "output_type": "execute_result"
    }
   ],
   "source": [
    "best_model.score(X_test, y_test)"
   ]
  },
  {
   "cell_type": "code",
   "execution_count": 25,
   "id": "0b5aae80-3dbc-451b-b34a-6ba1a8dda38d",
   "metadata": {
    "tags": []
   },
   "outputs": [],
   "source": [
    "#saving model\n",
    "with open('../predictor_model.pkl', 'wb') as file:\n",
    "    pickle.dump(best_model, file)"
   ]
  },
  {
   "cell_type": "code",
   "execution_count": 26,
   "id": "a4251b17-ee4f-4cd2-beeb-96006461d9eb",
   "metadata": {},
   "outputs": [
    {
     "data": {
      "text/plain": [
       "Index(['Ram', 'Touchscreen', 'IPS', 'HDD', 'SSD', 'Company_Acer',\n",
       "       'Company_Apple', 'Company_Asus', 'Company_Dell', 'Company_HP',\n",
       "       'Company_Lenovo', 'Company_MSI', 'Company_Other', 'Company_Toshiba',\n",
       "       'TypeName_2 in 1 Convertible', 'TypeName_Gaming', 'TypeName_Netbook',\n",
       "       'TypeName_Notebook', 'TypeName_Ultrabook', 'TypeName_Workstation',\n",
       "       'OpSys_Linux', 'OpSys_Mac', 'OpSys_Other', 'OpSys_Windows',\n",
       "       'Cpu_name_AMD', 'Cpu_name_Intel Core i3', 'Cpu_name_Intel Core i5',\n",
       "       'Cpu_name_Intel Core i7', 'Cpu_name_Other', 'Gpu_name_AMD',\n",
       "       'Gpu_name_Intel', 'Gpu_name_Nvidia'],\n",
       "      dtype='object')"
      ]
     },
     "execution_count": 26,
     "metadata": {},
     "output_type": "execute_result"
    }
   ],
   "source": [
    "X_train.columns"
   ]
  },
  {
   "cell_type": "code",
   "execution_count": 27,
   "id": "07ef65e0-7247-48af-89f1-cd726e28eae6",
   "metadata": {
    "tags": []
   },
   "outputs": [
    {
     "data": {
      "text/html": [
       "<div>\n",
       "<style scoped>\n",
       "    .dataframe tbody tr th:only-of-type {\n",
       "        vertical-align: middle;\n",
       "    }\n",
       "\n",
       "    .dataframe tbody tr th {\n",
       "        vertical-align: top;\n",
       "    }\n",
       "\n",
       "    .dataframe thead th {\n",
       "        text-align: right;\n",
       "    }\n",
       "</style>\n",
       "<table border=\"1\" class=\"dataframe\">\n",
       "  <thead>\n",
       "    <tr style=\"text-align: right;\">\n",
       "      <th></th>\n",
       "      <th>Ram</th>\n",
       "      <th>Touchscreen</th>\n",
       "      <th>IPS</th>\n",
       "      <th>HDD</th>\n",
       "      <th>SSD</th>\n",
       "      <th>Company_Acer</th>\n",
       "      <th>Company_Apple</th>\n",
       "      <th>Company_Asus</th>\n",
       "      <th>Company_Dell</th>\n",
       "      <th>Company_HP</th>\n",
       "      <th>...</th>\n",
       "      <th>OpSys_Other</th>\n",
       "      <th>OpSys_Windows</th>\n",
       "      <th>Cpu_name_AMD</th>\n",
       "      <th>Cpu_name_Intel Core i3</th>\n",
       "      <th>Cpu_name_Intel Core i5</th>\n",
       "      <th>Cpu_name_Intel Core i7</th>\n",
       "      <th>Cpu_name_Other</th>\n",
       "      <th>Gpu_name_AMD</th>\n",
       "      <th>Gpu_name_Intel</th>\n",
       "      <th>Gpu_name_Nvidia</th>\n",
       "    </tr>\n",
       "  </thead>\n",
       "  <tbody>\n",
       "    <tr>\n",
       "      <th>1024</th>\n",
       "      <td>16</td>\n",
       "      <td>0</td>\n",
       "      <td>1</td>\n",
       "      <td>0</td>\n",
       "      <td>256</td>\n",
       "      <td>0</td>\n",
       "      <td>0</td>\n",
       "      <td>0</td>\n",
       "      <td>0</td>\n",
       "      <td>0</td>\n",
       "      <td>...</td>\n",
       "      <td>0</td>\n",
       "      <td>1</td>\n",
       "      <td>0</td>\n",
       "      <td>0</td>\n",
       "      <td>0</td>\n",
       "      <td>1</td>\n",
       "      <td>0</td>\n",
       "      <td>0</td>\n",
       "      <td>0</td>\n",
       "      <td>1</td>\n",
       "    </tr>\n",
       "    <tr>\n",
       "      <th>1025</th>\n",
       "      <td>8</td>\n",
       "      <td>0</td>\n",
       "      <td>0</td>\n",
       "      <td>0</td>\n",
       "      <td>256</td>\n",
       "      <td>0</td>\n",
       "      <td>0</td>\n",
       "      <td>0</td>\n",
       "      <td>0</td>\n",
       "      <td>0</td>\n",
       "      <td>...</td>\n",
       "      <td>0</td>\n",
       "      <td>1</td>\n",
       "      <td>0</td>\n",
       "      <td>0</td>\n",
       "      <td>1</td>\n",
       "      <td>0</td>\n",
       "      <td>0</td>\n",
       "      <td>0</td>\n",
       "      <td>1</td>\n",
       "      <td>0</td>\n",
       "    </tr>\n",
       "    <tr>\n",
       "      <th>1026</th>\n",
       "      <td>4</td>\n",
       "      <td>0</td>\n",
       "      <td>0</td>\n",
       "      <td>500</td>\n",
       "      <td>0</td>\n",
       "      <td>0</td>\n",
       "      <td>0</td>\n",
       "      <td>0</td>\n",
       "      <td>0</td>\n",
       "      <td>1</td>\n",
       "      <td>...</td>\n",
       "      <td>0</td>\n",
       "      <td>1</td>\n",
       "      <td>0</td>\n",
       "      <td>0</td>\n",
       "      <td>1</td>\n",
       "      <td>0</td>\n",
       "      <td>0</td>\n",
       "      <td>0</td>\n",
       "      <td>1</td>\n",
       "      <td>0</td>\n",
       "    </tr>\n",
       "    <tr>\n",
       "      <th>1027</th>\n",
       "      <td>8</td>\n",
       "      <td>0</td>\n",
       "      <td>0</td>\n",
       "      <td>500</td>\n",
       "      <td>256</td>\n",
       "      <td>0</td>\n",
       "      <td>0</td>\n",
       "      <td>0</td>\n",
       "      <td>0</td>\n",
       "      <td>1</td>\n",
       "      <td>...</td>\n",
       "      <td>0</td>\n",
       "      <td>1</td>\n",
       "      <td>0</td>\n",
       "      <td>0</td>\n",
       "      <td>1</td>\n",
       "      <td>0</td>\n",
       "      <td>0</td>\n",
       "      <td>0</td>\n",
       "      <td>1</td>\n",
       "      <td>0</td>\n",
       "    </tr>\n",
       "    <tr>\n",
       "      <th>1028</th>\n",
       "      <td>8</td>\n",
       "      <td>0</td>\n",
       "      <td>0</td>\n",
       "      <td>0</td>\n",
       "      <td>256</td>\n",
       "      <td>0</td>\n",
       "      <td>0</td>\n",
       "      <td>0</td>\n",
       "      <td>0</td>\n",
       "      <td>1</td>\n",
       "      <td>...</td>\n",
       "      <td>0</td>\n",
       "      <td>1</td>\n",
       "      <td>0</td>\n",
       "      <td>0</td>\n",
       "      <td>1</td>\n",
       "      <td>0</td>\n",
       "      <td>0</td>\n",
       "      <td>0</td>\n",
       "      <td>1</td>\n",
       "      <td>0</td>\n",
       "    </tr>\n",
       "    <tr>\n",
       "      <th>...</th>\n",
       "      <td>...</td>\n",
       "      <td>...</td>\n",
       "      <td>...</td>\n",
       "      <td>...</td>\n",
       "      <td>...</td>\n",
       "      <td>...</td>\n",
       "      <td>...</td>\n",
       "      <td>...</td>\n",
       "      <td>...</td>\n",
       "      <td>...</td>\n",
       "      <td>...</td>\n",
       "      <td>...</td>\n",
       "      <td>...</td>\n",
       "      <td>...</td>\n",
       "      <td>...</td>\n",
       "      <td>...</td>\n",
       "      <td>...</td>\n",
       "      <td>...</td>\n",
       "      <td>...</td>\n",
       "      <td>...</td>\n",
       "      <td>...</td>\n",
       "    </tr>\n",
       "    <tr>\n",
       "      <th>1276</th>\n",
       "      <td>4</td>\n",
       "      <td>1</td>\n",
       "      <td>1</td>\n",
       "      <td>0</td>\n",
       "      <td>128</td>\n",
       "      <td>0</td>\n",
       "      <td>0</td>\n",
       "      <td>0</td>\n",
       "      <td>0</td>\n",
       "      <td>0</td>\n",
       "      <td>...</td>\n",
       "      <td>0</td>\n",
       "      <td>1</td>\n",
       "      <td>0</td>\n",
       "      <td>0</td>\n",
       "      <td>0</td>\n",
       "      <td>1</td>\n",
       "      <td>0</td>\n",
       "      <td>0</td>\n",
       "      <td>1</td>\n",
       "      <td>0</td>\n",
       "    </tr>\n",
       "    <tr>\n",
       "      <th>1277</th>\n",
       "      <td>16</td>\n",
       "      <td>1</td>\n",
       "      <td>1</td>\n",
       "      <td>0</td>\n",
       "      <td>512</td>\n",
       "      <td>0</td>\n",
       "      <td>0</td>\n",
       "      <td>0</td>\n",
       "      <td>0</td>\n",
       "      <td>0</td>\n",
       "      <td>...</td>\n",
       "      <td>0</td>\n",
       "      <td>1</td>\n",
       "      <td>0</td>\n",
       "      <td>0</td>\n",
       "      <td>0</td>\n",
       "      <td>1</td>\n",
       "      <td>0</td>\n",
       "      <td>0</td>\n",
       "      <td>1</td>\n",
       "      <td>0</td>\n",
       "    </tr>\n",
       "    <tr>\n",
       "      <th>1278</th>\n",
       "      <td>2</td>\n",
       "      <td>0</td>\n",
       "      <td>0</td>\n",
       "      <td>0</td>\n",
       "      <td>0</td>\n",
       "      <td>0</td>\n",
       "      <td>0</td>\n",
       "      <td>0</td>\n",
       "      <td>0</td>\n",
       "      <td>0</td>\n",
       "      <td>...</td>\n",
       "      <td>0</td>\n",
       "      <td>1</td>\n",
       "      <td>0</td>\n",
       "      <td>0</td>\n",
       "      <td>0</td>\n",
       "      <td>0</td>\n",
       "      <td>1</td>\n",
       "      <td>0</td>\n",
       "      <td>1</td>\n",
       "      <td>0</td>\n",
       "    </tr>\n",
       "    <tr>\n",
       "      <th>1279</th>\n",
       "      <td>6</td>\n",
       "      <td>0</td>\n",
       "      <td>0</td>\n",
       "      <td>1000</td>\n",
       "      <td>0</td>\n",
       "      <td>0</td>\n",
       "      <td>0</td>\n",
       "      <td>0</td>\n",
       "      <td>0</td>\n",
       "      <td>1</td>\n",
       "      <td>...</td>\n",
       "      <td>0</td>\n",
       "      <td>1</td>\n",
       "      <td>0</td>\n",
       "      <td>0</td>\n",
       "      <td>0</td>\n",
       "      <td>1</td>\n",
       "      <td>0</td>\n",
       "      <td>1</td>\n",
       "      <td>0</td>\n",
       "      <td>0</td>\n",
       "    </tr>\n",
       "    <tr>\n",
       "      <th>1280</th>\n",
       "      <td>4</td>\n",
       "      <td>0</td>\n",
       "      <td>0</td>\n",
       "      <td>500</td>\n",
       "      <td>0</td>\n",
       "      <td>0</td>\n",
       "      <td>0</td>\n",
       "      <td>1</td>\n",
       "      <td>0</td>\n",
       "      <td>0</td>\n",
       "      <td>...</td>\n",
       "      <td>0</td>\n",
       "      <td>1</td>\n",
       "      <td>0</td>\n",
       "      <td>0</td>\n",
       "      <td>0</td>\n",
       "      <td>0</td>\n",
       "      <td>1</td>\n",
       "      <td>0</td>\n",
       "      <td>1</td>\n",
       "      <td>0</td>\n",
       "    </tr>\n",
       "  </tbody>\n",
       "</table>\n",
       "<p>257 rows × 32 columns</p>\n",
       "</div>"
      ],
      "text/plain": [
       "      Ram  Touchscreen  IPS   HDD  SSD  Company_Acer  Company_Apple  \\\n",
       "1024   16            0    1     0  256             0              0   \n",
       "1025    8            0    0     0  256             0              0   \n",
       "1026    4            0    0   500    0             0              0   \n",
       "1027    8            0    0   500  256             0              0   \n",
       "1028    8            0    0     0  256             0              0   \n",
       "...   ...          ...  ...   ...  ...           ...            ...   \n",
       "1276    4            1    1     0  128             0              0   \n",
       "1277   16            1    1     0  512             0              0   \n",
       "1278    2            0    0     0    0             0              0   \n",
       "1279    6            0    0  1000    0             0              0   \n",
       "1280    4            0    0   500    0             0              0   \n",
       "\n",
       "      Company_Asus  Company_Dell  Company_HP  ...  OpSys_Other  OpSys_Windows  \\\n",
       "1024             0             0           0  ...            0              1   \n",
       "1025             0             0           0  ...            0              1   \n",
       "1026             0             0           1  ...            0              1   \n",
       "1027             0             0           1  ...            0              1   \n",
       "1028             0             0           1  ...            0              1   \n",
       "...            ...           ...         ...  ...          ...            ...   \n",
       "1276             0             0           0  ...            0              1   \n",
       "1277             0             0           0  ...            0              1   \n",
       "1278             0             0           0  ...            0              1   \n",
       "1279             0             0           1  ...            0              1   \n",
       "1280             1             0           0  ...            0              1   \n",
       "\n",
       "      Cpu_name_AMD  Cpu_name_Intel Core i3  Cpu_name_Intel Core i5  \\\n",
       "1024             0                       0                       0   \n",
       "1025             0                       0                       1   \n",
       "1026             0                       0                       1   \n",
       "1027             0                       0                       1   \n",
       "1028             0                       0                       1   \n",
       "...            ...                     ...                     ...   \n",
       "1276             0                       0                       0   \n",
       "1277             0                       0                       0   \n",
       "1278             0                       0                       0   \n",
       "1279             0                       0                       0   \n",
       "1280             0                       0                       0   \n",
       "\n",
       "      Cpu_name_Intel Core i7  Cpu_name_Other  Gpu_name_AMD  Gpu_name_Intel  \\\n",
       "1024                       1               0             0               0   \n",
       "1025                       0               0             0               1   \n",
       "1026                       0               0             0               1   \n",
       "1027                       0               0             0               1   \n",
       "1028                       0               0             0               1   \n",
       "...                      ...             ...           ...             ...   \n",
       "1276                       1               0             0               1   \n",
       "1277                       1               0             0               1   \n",
       "1278                       0               1             0               1   \n",
       "1279                       1               0             1               0   \n",
       "1280                       0               1             0               1   \n",
       "\n",
       "      Gpu_name_Nvidia  \n",
       "1024                1  \n",
       "1025                0  \n",
       "1026                0  \n",
       "1027                0  \n",
       "1028                0  \n",
       "...               ...  \n",
       "1276                0  \n",
       "1277                0  \n",
       "1278                0  \n",
       "1279                0  \n",
       "1280                0  \n",
       "\n",
       "[257 rows x 32 columns]"
      ]
     },
     "execution_count": 27,
     "metadata": {},
     "output_type": "execute_result"
    }
   ],
   "source": [
    "X_test"
   ]
  }
 ],
 "metadata": {
  "kernelspec": {
   "display_name": "Python 3 (ipykernel)",
   "language": "python",
   "name": "python3"
  },
  "language_info": {
   "codemirror_mode": {
    "name": "ipython",
    "version": 3
   },
   "file_extension": ".py",
   "mimetype": "text/x-python",
   "name": "python",
   "nbconvert_exporter": "python",
   "pygments_lexer": "ipython3",
   "version": "3.9.17"
  },
  "toc-autonumbering": false,
  "toc-showmarkdowntxt": true
 },
 "nbformat": 4,
 "nbformat_minor": 5
}
